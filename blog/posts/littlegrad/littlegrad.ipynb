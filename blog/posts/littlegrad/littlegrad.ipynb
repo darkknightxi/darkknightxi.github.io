{
 "cells": [
  {
   "cell_type": "raw",
   "metadata": {},
   "source": [
    "---\n",
    "title: \"Building littlegrad Part 1\"\n",
    "author: \"Kartikeya Khare\"\n",
    "date: \"April 20, 2024\"\n",
    "categories: [Deep Learning]\n",
    "image: \"littlegrad.jpg\"\n",
    "format:\n",
    "    html:\n",
    "        toc: true\n",
    "        toc-title: Contents\n",
    "        toc-location: left\n",
    "execute:\n",
    "    enabled: false\n",
    "    output: true\n",
    "    cache: true\n",
    "---"
   ]
  },
  {
   "cell_type": "markdown",
   "metadata": {
    "id": "Lp4m370k7cdM"
   },
   "source": [
    "Building a light-weight autograd engine. Inspired by [Karpathy](https://twitter.com/karpathy)'s [micrograd](https://github.com/karpathy/micrograd) library."
   ]
  },
  {
   "cell_type": "code",
   "execution_count": 1,
   "metadata": {
    "id": "PL384H3_1LSx"
   },
   "outputs": [],
   "source": [
    "import math\n",
    "import numpy as np\n",
    "import matplotlib.pyplot as plt\n",
    "%matplotlib inline"
   ]
  },
  {
   "cell_type": "markdown",
   "metadata": {
    "id": "fZc0VIJR8dq6"
   },
   "source": [
    "# The `Value` Class"
   ]
  },
  {
   "cell_type": "markdown",
   "metadata": {
    "id": "sTrJJW1V8oAm"
   },
   "source": [
    "littlegrad will closely follow the PyTorch API. PyTorch uses tensors to store values. We'll create a Value object which can be thought of as an equivalent to the tensor object, except it will only store a single scalar (and of course much less powerful than the tensor).\n",
    "\n",
    "Let's begin by adding the addition and multiplication functionality to the `Value` object."
   ]
  },
  {
   "cell_type": "code",
   "execution_count": 2,
   "metadata": {
    "id": "JnPltkic-brk"
   },
   "outputs": [],
   "source": [
    "class Value:\n",
    "  def __init__(self, data):\n",
    "    self.data = data\n",
    "\n",
    "  def __repr__(self):\n",
    "    return f\"Value(data={self.data})\"\n",
    "\n",
    "  def __add__(self, other):\n",
    "    out = Value(self.data + other.data)\n",
    "    return out\n",
    "\n",
    "  def __mul__(self, other):\n",
    "    out = Value(self.data * other.data)\n",
    "    return out"
   ]
  },
  {
   "cell_type": "code",
   "execution_count": 3,
   "metadata": {
    "colab": {
     "base_uri": "https://localhost:8080/"
    },
    "id": "DOh_nHWIAt2a",
    "outputId": "ea59c403-b237-4670-a0ca-83f42089ced0"
   },
   "outputs": [
    {
     "data": {
      "text/plain": [
       "Value(data=2.0)"
      ]
     },
     "execution_count": 3,
     "metadata": {},
     "output_type": "execute_result"
    }
   ],
   "source": [
    "a = Value(2.0)\n",
    "a"
   ]
  },
  {
   "cell_type": "code",
   "execution_count": 4,
   "metadata": {
    "colab": {
     "base_uri": "https://localhost:8080/"
    },
    "id": "f2o7J58tBXAm",
    "outputId": "2d5ad2ed-90ec-401a-e7b7-e3d70158462b"
   },
   "outputs": [
    {
     "data": {
      "text/plain": [
       "Value(data=5.0)"
      ]
     },
     "execution_count": 4,
     "metadata": {},
     "output_type": "execute_result"
    }
   ],
   "source": [
    "b = Value(3.0)\n",
    "a + b"
   ]
  },
  {
   "cell_type": "code",
   "execution_count": 5,
   "metadata": {
    "colab": {
     "base_uri": "https://localhost:8080/"
    },
    "id": "i7XjCLKpBfJs",
    "outputId": "78b9efe9-04bb-4b78-fedb-f2744e68314a"
   },
   "outputs": [
    {
     "data": {
      "text/plain": [
       "Value(data=6.0)"
      ]
     },
     "execution_count": 5,
     "metadata": {},
     "output_type": "execute_result"
    }
   ],
   "source": [
    "a * b"
   ]
  },
  {
   "cell_type": "markdown",
   "metadata": {
    "id": "YzMftL0qBhqY"
   },
   "source": [
    "Right, so adding and multiplyting two Value objects works correctly. There is a small problem though."
   ]
  },
  {
   "cell_type": "code",
   "execution_count": 6,
   "metadata": {
    "colab": {
     "base_uri": "https://localhost:8080/",
     "height": 263
    },
    "id": "Fe2Xf5bzBs09",
    "outputId": "b079fd14-6528-44df-def9-f5a06f6630a9"
   },
   "outputs": [
    {
     "ename": "AttributeError",
     "evalue": "'float' object has no attribute 'data'",
     "output_type": "error",
     "traceback": [
      "\u001b[0;31m---------------------------------------------------------------------------\u001b[0m",
      "\u001b[0;31mAttributeError\u001b[0m                            Traceback (most recent call last)",
      "Cell \u001b[0;32mIn[6], line 2\u001b[0m\n\u001b[1;32m      1\u001b[0m c \u001b[38;5;241m=\u001b[39m \u001b[38;5;241m3.0\u001b[39m\n\u001b[0;32m----> 2\u001b[0m a \u001b[38;5;241m*\u001b[39m c\n",
      "Cell \u001b[0;32mIn[2], line 13\u001b[0m, in \u001b[0;36mValue.__mul__\u001b[0;34m(self, other)\u001b[0m\n\u001b[1;32m     12\u001b[0m \u001b[38;5;28;01mdef\u001b[39;00m \u001b[38;5;21m__mul__\u001b[39m(\u001b[38;5;28mself\u001b[39m, other):\n\u001b[0;32m---> 13\u001b[0m   out \u001b[38;5;241m=\u001b[39m Value(\u001b[38;5;28mself\u001b[39m\u001b[38;5;241m.\u001b[39mdata \u001b[38;5;241m*\u001b[39m other\u001b[38;5;241m.\u001b[39mdata)\n\u001b[1;32m     14\u001b[0m   \u001b[38;5;28;01mreturn\u001b[39;00m out\n",
      "\u001b[0;31mAttributeError\u001b[0m: 'float' object has no attribute 'data'"
     ]
    }
   ],
   "source": [
    "c = 3.0\n",
    "a * c # AttributeError: 'float' object has no attribute 'data'"
   ]
  },
  {
   "cell_type": "markdown",
   "metadata": {
    "id": "IeLF2Wo0B3Bl"
   },
   "source": [
    "We haven't defined adding/multiplyting a `Value` object with an int or float. The fix is simple, if the other number is not a `Value` object, wrap it in the Value class."
   ]
  },
  {
   "cell_type": "code",
   "execution_count": 7,
   "metadata": {
    "id": "6Lz2m1UNCRRX"
   },
   "outputs": [],
   "source": [
    "class Value:\n",
    "  def __init__(self, data):\n",
    "    self.data = data\n",
    "\n",
    "  def __repr__(self):\n",
    "    return f\"Value(data={self.data})\"\n",
    "\n",
    "  def __add__(self, other):\n",
    "    other = other if isinstance(other, Value) else Value(other)\n",
    "    out = Value(self.data + other.data)\n",
    "    return out\n",
    "\n",
    "  def __mul__(self, other):\n",
    "    other = other if isinstance(other, Value) else Value(other)\n",
    "    out = Value(self.data * other.data)\n",
    "    return out"
   ]
  },
  {
   "cell_type": "code",
   "execution_count": 8,
   "metadata": {
    "colab": {
     "base_uri": "https://localhost:8080/"
    },
    "id": "iL5pAIn7Cb6C",
    "outputId": "a0be99f8-a371-4cab-c11f-bf58867e413c"
   },
   "outputs": [
    {
     "data": {
      "text/plain": [
       "Value(data=6.0)"
      ]
     },
     "execution_count": 8,
     "metadata": {},
     "output_type": "execute_result"
    }
   ],
   "source": [
    "a = Value(2.0); c = 3.0\n",
    "a * c"
   ]
  },
  {
   "cell_type": "markdown",
   "metadata": {
    "id": "IuUgHM-PDIfb"
   },
   "source": [
    "And it works!\n",
    "But there's still a catch."
   ]
  },
  {
   "cell_type": "code",
   "execution_count": 9,
   "metadata": {
    "colab": {
     "base_uri": "https://localhost:8080/",
     "height": 141
    },
    "id": "eQXtDUpCDPId",
    "outputId": "9fb5e4d0-9123-4ed7-ca48-96c058b0dd27"
   },
   "outputs": [
    {
     "ename": "TypeError",
     "evalue": "unsupported operand type(s) for *: 'float' and 'Value'",
     "output_type": "error",
     "traceback": [
      "\u001b[0;31m---------------------------------------------------------------------------\u001b[0m",
      "\u001b[0;31mTypeError\u001b[0m                                 Traceback (most recent call last)",
      "Cell \u001b[0;32mIn[9], line 1\u001b[0m\n\u001b[0;32m----> 1\u001b[0m c \u001b[38;5;241m*\u001b[39m a\n",
      "\u001b[0;31mTypeError\u001b[0m: unsupported operand type(s) for *: 'float' and 'Value'"
     ]
    }
   ],
   "source": [
    "c * a # TypeError: unsupported operand type(s) for *: 'float' and 'Value'"
   ]
  },
  {
   "cell_type": "markdown",
   "metadata": {
    "id": "9pZYjIGLDRc8"
   },
   "source": [
    "Multiplication of a Value object with an int/float only works if the Value operator is the first operand. Thankfully, there's an easy way out using the `__rmul__` dunder method which falls back to `x * y` if `y * x` doesn't work."
   ]
  },
  {
   "cell_type": "code",
   "execution_count": 10,
   "metadata": {
    "id": "EhV-xurQDHze"
   },
   "outputs": [],
   "source": [
    "class Value:\n",
    "  def __init__(self, data):\n",
    "    self.data = data\n",
    "\n",
    "  def __repr__(self):\n",
    "    return f\"Value(data={self.data})\"\n",
    "\n",
    "  def __add__(self, other):\n",
    "    other = other if isinstance(other, Value) else Value(other)\n",
    "    out = Value(self.data + other.data)\n",
    "    return out\n",
    "\n",
    "  def __mul__(self, other):\n",
    "    other = other if isinstance(other, Value) else Value(other)\n",
    "    out = Value(self.data * other.data)\n",
    "    return out\n",
    "\n",
    "  def __rmul__(self, other): # other * self\n",
    "    return self * other"
   ]
  },
  {
   "cell_type": "code",
   "execution_count": 11,
   "metadata": {
    "colab": {
     "base_uri": "https://localhost:8080/"
    },
    "id": "b1Zm1iaMEt4W",
    "outputId": "fff138c8-507f-4b49-8f78-fc6f717d96c3"
   },
   "outputs": [
    {
     "data": {
      "text/plain": [
       "Value(data=6.0)"
      ]
     },
     "execution_count": 11,
     "metadata": {},
     "output_type": "execute_result"
    }
   ],
   "source": [
    "a = Value(2.0); c = 3.0\n",
    "c * a"
   ]
  },
  {
   "cell_type": "markdown",
   "metadata": {
    "id": "oDjm7dhLEBHt"
   },
   "source": [
    "Since the number of variables and operations get too large too quickly in a neural network, let's add labels to keep track of the variables and the operations in the `Value` class. Also, we'll keep track of the children of every variable (if `x = a + b`, then `a` and `b` are `x`'s children)."
   ]
  },
  {
   "cell_type": "code",
   "execution_count": 12,
   "metadata": {
    "id": "BdYI8_ulEAhs"
   },
   "outputs": [],
   "source": [
    "class Value:\n",
    "  def __init__(self, data, _children=(), _op='', label=''):\n",
    "    self.data = data\n",
    "    self._prev = _children\n",
    "    self.label = label\n",
    "    self._op = _op\n",
    "\n",
    "  def __repr__(self):\n",
    "    return f\"Value(data={self.data})\"\n",
    "\n",
    "  def __add__(self, other):\n",
    "    other = other if isinstance(other, Value) else Value(other)\n",
    "    out = Value(self.data + other.data, (self, other), '+')\n",
    "    return out\n",
    "\n",
    "  def __mul__(self, other):\n",
    "    other = other if isinstance(other, Value) else Value(other)\n",
    "    out = Value(self.data * other.data, (self, other), '*')\n",
    "    return out\n",
    "\n",
    "  def __rmul__(self, other): # other * self\n",
    "    return self * other"
   ]
  },
  {
   "cell_type": "code",
   "execution_count": 13,
   "metadata": {
    "colab": {
     "base_uri": "https://localhost:8080/"
    },
    "id": "HWqyYMTaFVZS",
    "outputId": "1a9e1151-5adc-4622-ab74-14803bb60ed6"
   },
   "outputs": [
    {
     "data": {
      "text/plain": [
       "Value(data=-1.0)"
      ]
     },
     "execution_count": 13,
     "metadata": {},
     "output_type": "execute_result"
    }
   ],
   "source": [
    "a = Value(2.0, label='a')\n",
    "b = Value(-3.0, label='b')\n",
    "c = a + b; c.label = 'c'\n",
    "c"
   ]
  },
  {
   "cell_type": "code",
   "execution_count": 14,
   "metadata": {
    "colab": {
     "base_uri": "https://localhost:8080/",
     "height": 35
    },
    "id": "JwIyoCYVFnxW",
    "outputId": "303b38a6-ae39-4a31-c96b-80a3c70f5b81"
   },
   "outputs": [
    {
     "data": {
      "text/plain": [
       "'+'"
      ]
     },
     "execution_count": 14,
     "metadata": {},
     "output_type": "execute_result"
    }
   ],
   "source": [
    "c._op"
   ]
  },
  {
   "cell_type": "code",
   "execution_count": 15,
   "metadata": {
    "colab": {
     "base_uri": "https://localhost:8080/"
    },
    "id": "oifCaJGfFpd8",
    "outputId": "a7d1aa4d-9fe6-468c-ebd4-a518ec1bb3a0"
   },
   "outputs": [
    {
     "data": {
      "text/plain": [
       "(Value(data=2.0), Value(data=-3.0))"
      ]
     },
     "execution_count": 15,
     "metadata": {},
     "output_type": "execute_result"
    }
   ],
   "source": [
    "c._prev"
   ]
  },
  {
   "cell_type": "markdown",
   "metadata": {
    "id": "VKl1l7T3GYM3"
   },
   "source": [
    "Next, we'll add a `.grad` attribute to our `Value` class to store the gradients. The gradient, initially, is 0."
   ]
  },
  {
   "cell_type": "code",
   "execution_count": 16,
   "metadata": {
    "id": "klkRjOTFGoMS"
   },
   "outputs": [],
   "source": [
    "class Value:\n",
    "  def __init__(self, data, _children=(), _op='', label=''):\n",
    "    self.data = data\n",
    "    self.grad = 0.0\n",
    "    self._prev = _children\n",
    "    self.label = label\n",
    "    self._op = _op\n",
    "\n",
    "  def __repr__(self):\n",
    "    return f\"Value(data={self.data})\"\n",
    "\n",
    "  def __add__(self, other):\n",
    "    other = other if isinstance(other, Value) else Value(other)\n",
    "    out = Value(self.data + other.data, (self, other), '+')\n",
    "    return out\n",
    "\n",
    "  def __mul__(self, other):\n",
    "    other = other if isinstance(other, Value) else Value(other)\n",
    "    out = Value(self.data * other.data, (self, other), '*')\n",
    "    return out\n",
    "\n",
    "  def __rmul__(self, other): # other * self\n",
    "    return self * other"
   ]
  },
  {
   "cell_type": "markdown",
   "metadata": {
    "id": "t7b_NBJeF43l"
   },
   "source": [
    "Let's take a slightly more involved example."
   ]
  },
  {
   "cell_type": "code",
   "execution_count": 17,
   "metadata": {
    "colab": {
     "base_uri": "https://localhost:8080/"
    },
    "id": "DClRdDJxF8lH",
    "outputId": "d3721343-a952-4d6a-a9b3-2b3345450233"
   },
   "outputs": [
    {
     "data": {
      "text/plain": [
       "Value(data=-8.0)"
      ]
     },
     "execution_count": 17,
     "metadata": {},
     "output_type": "execute_result"
    }
   ],
   "source": [
    "a = Value(2.0, label='a')\n",
    "b = Value(-3.0, label='b')\n",
    "c = Value(10.0, label='c')\n",
    "e = a*b; e.label = 'e'\n",
    "d = e + c; d.label = 'd'\n",
    "f = Value(-2.0, label='f')\n",
    "L = d * f; L.label = 'L'\n",
    "L"
   ]
  },
  {
   "cell_type": "markdown",
   "metadata": {
    "id": "llF0HGfCXDZO"
   },
   "source": [
    "# Visualising the Computational Graph"
   ]
  },
  {
   "cell_type": "markdown",
   "metadata": {
    "id": "-Cw0pPzjGD5r"
   },
   "source": [
    "What we want now is to visualise this sequence of operations in a directed graph. The following code uses the `graphviz` library to do just that."
   ]
  },
  {
   "cell_type": "code",
   "execution_count": 18,
   "metadata": {
    "id": "-Vgs40lVyx-2"
   },
   "outputs": [],
   "source": [
    "from graphviz import Digraph\n",
    "\n",
    "def trace(root):\n",
    "  # builds a set of all nodes and edges in a graph\n",
    "  nodes, edges = set(), set()\n",
    "  def build(v):\n",
    "    if v not in nodes:\n",
    "      nodes.add(v)\n",
    "      for child in v._prev:\n",
    "        edges.add((child, v))\n",
    "        build(child)\n",
    "  build(root)\n",
    "  return nodes, edges\n",
    "\n",
    "def draw_dot(root):\n",
    "  dot = Digraph(format='svg', graph_attr={'rankdir': 'LR'}) # LR = left to right\n",
    "\n",
    "  nodes, edges = trace(root)\n",
    "  for n in nodes:\n",
    "    uid = str(id(n))\n",
    "    # for any value in the graph, create a rectangular ('record') node for it\n",
    "    dot.node(name = uid, label = \"{ %s | data %.4f | grad %.4f }\" % (n.label, n.data, n.grad), shape='record')\n",
    "    if n._op:\n",
    "      # if this value is a result of some operation, create an op node for it\n",
    "      dot.node(name = uid + n._op, label = n._op)\n",
    "      # and connect this node to it\n",
    "      dot.edge(uid + n._op, uid)\n",
    "\n",
    "  for n1, n2 in edges:\n",
    "    # connect n1 to the op node of n2\n",
    "    dot.edge(str(id(n1)), str(id(n2)) + n2._op)\n",
    "\n",
    "  return dot"
   ]
  },
  {
   "cell_type": "code",
   "execution_count": 19,
   "metadata": {
    "colab": {
     "base_uri": "https://localhost:8080/",
     "height": 212
    },
    "id": "OVAlP2gsGVD9",
    "outputId": "9d6c5723-df77-4631-cc2b-b107ced817a1"
   },
   "outputs": [
    {
     "name": "stderr",
     "output_type": "stream",
     "text": [
      "Warning: Could not load \"/home/darkknightxi/miniconda3/bin/../lib/graphviz/libgvplugin_pango.so.6\" - It was found, so perhaps one of its dependents was not.  Try ldd.\n"
     ]
    },
    {
     "data": {
      "image/svg+xml": [
       "<?xml version=\"1.0\" encoding=\"UTF-8\" standalone=\"no\"?>\n",
       "<!DOCTYPE svg PUBLIC \"-//W3C//DTD SVG 1.1//EN\"\n",
       " \"http://www.w3.org/Graphics/SVG/1.1/DTD/svg11.dtd\">\n",
       "<!-- Generated by graphviz version 2.50.0 (0)\n",
       " -->\n",
       "<!-- Pages: 1 -->\n",
       "<svg width=\"1154pt\" height=\"156pt\"\n",
       " viewBox=\"0.00 0.00 1154.19 156.00\" xmlns=\"http://www.w3.org/2000/svg\" xmlns:xlink=\"http://www.w3.org/1999/xlink\">\n",
       "<g id=\"graph0\" class=\"graph\" transform=\"scale(1 1) rotate(0) translate(4 152)\">\n",
       "<polygon fill=\"white\" stroke=\"transparent\" points=\"-4,4 -4,-152 1150.19,-152 1150.19,4 -4,4\"/>\n",
       "<!-- 139745821934608 -->\n",
       "<g id=\"node1\" class=\"node\">\n",
       "<title>139745821934608</title>\n",
       "<polygon fill=\"none\" stroke=\"black\" points=\"952.78,-27.5 952.78,-63.5 1146.19,-63.5 1146.19,-27.5 952.78,-27.5\"/>\n",
       "<text text-anchor=\"middle\" x=\"965.06\" y=\"-41.4\" font-family=\"Times,serif\" font-size=\"14.00\">L</text>\n",
       "<polyline fill=\"none\" stroke=\"black\" points=\"977.33,-27.7 977.33,-63.5 \"/>\n",
       "<text text-anchor=\"middle\" x=\"1020.32\" y=\"-41.4\" font-family=\"Times,serif\" font-size=\"14.00\">data &#45;8.0000</text>\n",
       "<polyline fill=\"none\" stroke=\"black\" points=\"1063.31,-27.7 1063.31,-63.5 \"/>\n",
       "<text text-anchor=\"middle\" x=\"1104.75\" y=\"-41.4\" font-family=\"Times,serif\" font-size=\"14.00\">grad 0.0000</text>\n",
       "</g>\n",
       "<!-- 139745821934608* -->\n",
       "<g id=\"node2\" class=\"node\">\n",
       "<title>139745821934608*</title>\n",
       "<ellipse fill=\"none\" stroke=\"black\" cx=\"889.78\" cy=\"-45.5\" rx=\"27\" ry=\"18\"/>\n",
       "<text text-anchor=\"middle\" x=\"889.78\" y=\"-41.3\" font-family=\"Times,serif\" font-size=\"14.00\">*</text>\n",
       "</g>\n",
       "<!-- 139745821934608*&#45;&gt;139745821934608 -->\n",
       "<g id=\"edge1\" class=\"edge\">\n",
       "<title>139745821934608*&#45;&gt;139745821934608</title>\n",
       "<path fill=\"none\" stroke=\"black\" d=\"M916.82,-45.5C924.34,-45.5 933.04,-45.5 942.32,-45.5\"/>\n",
       "<polygon fill=\"black\" stroke=\"black\" points=\"942.58,-49 952.58,-45.5 942.58,-42 942.58,-49\"/>\n",
       "</g>\n",
       "<!-- 139745821949008 -->\n",
       "<g id=\"node3\" class=\"node\">\n",
       "<title>139745821949008</title>\n",
       "<polygon fill=\"none\" stroke=\"black\" points=\"638.42,-55.5 638.42,-91.5 825.62,-91.5 825.62,-55.5 638.42,-55.5\"/>\n",
       "<text text-anchor=\"middle\" x=\"649.92\" y=\"-69.4\" font-family=\"Times,serif\" font-size=\"14.00\">d</text>\n",
       "<polyline fill=\"none\" stroke=\"black\" points=\"661.42,-55.7 661.42,-91.5 \"/>\n",
       "<text text-anchor=\"middle\" x=\"702.08\" y=\"-69.4\" font-family=\"Times,serif\" font-size=\"14.00\">data 4.0000</text>\n",
       "<polyline fill=\"none\" stroke=\"black\" points=\"742.74,-55.7 742.74,-91.5 \"/>\n",
       "<text text-anchor=\"middle\" x=\"784.18\" y=\"-69.4\" font-family=\"Times,serif\" font-size=\"14.00\">grad 0.0000</text>\n",
       "</g>\n",
       "<!-- 139745821949008&#45;&gt;139745821934608* -->\n",
       "<g id=\"edge7\" class=\"edge\">\n",
       "<title>139745821949008&#45;&gt;139745821934608*</title>\n",
       "<path fill=\"none\" stroke=\"black\" d=\"M825.88,-56.81C835.59,-55.06 844.98,-53.37 853.41,-51.86\"/>\n",
       "<polygon fill=\"black\" stroke=\"black\" points=\"854.3,-55.25 863.52,-50.04 853.06,-48.36 854.3,-55.25\"/>\n",
       "</g>\n",
       "<!-- 139745821949008+ -->\n",
       "<g id=\"node4\" class=\"node\">\n",
       "<title>139745821949008+</title>\n",
       "<ellipse fill=\"none\" stroke=\"black\" cx=\"574.26\" cy=\"-73.5\" rx=\"27\" ry=\"18\"/>\n",
       "<text text-anchor=\"middle\" x=\"574.26\" y=\"-69.3\" font-family=\"Times,serif\" font-size=\"14.00\">+</text>\n",
       "</g>\n",
       "<!-- 139745821949008+&#45;&gt;139745821949008 -->\n",
       "<g id=\"edge2\" class=\"edge\">\n",
       "<title>139745821949008+&#45;&gt;139745821949008</title>\n",
       "<path fill=\"none\" stroke=\"black\" d=\"M601.33,-73.5C609.17,-73.5 618.3,-73.5 628.01,-73.5\"/>\n",
       "<polygon fill=\"black\" stroke=\"black\" points=\"628.31,-77 638.31,-73.5 628.31,-70 628.31,-77\"/>\n",
       "</g>\n",
       "<!-- 139745821941008 -->\n",
       "<g id=\"node5\" class=\"node\">\n",
       "<title>139745821941008</title>\n",
       "<polygon fill=\"none\" stroke=\"black\" points=\"319.02,-83.5 319.02,-119.5 510.09,-119.5 510.09,-83.5 319.02,-83.5\"/>\n",
       "<text text-anchor=\"middle\" x=\"330.13\" y=\"-97.4\" font-family=\"Times,serif\" font-size=\"14.00\">e</text>\n",
       "<polyline fill=\"none\" stroke=\"black\" points=\"341.24,-83.7 341.24,-119.5 \"/>\n",
       "<text text-anchor=\"middle\" x=\"384.23\" y=\"-97.4\" font-family=\"Times,serif\" font-size=\"14.00\">data &#45;6.0000</text>\n",
       "<polyline fill=\"none\" stroke=\"black\" points=\"427.22,-83.7 427.22,-119.5 \"/>\n",
       "<text text-anchor=\"middle\" x=\"468.66\" y=\"-97.4\" font-family=\"Times,serif\" font-size=\"14.00\">grad 0.0000</text>\n",
       "</g>\n",
       "<!-- 139745821941008&#45;&gt;139745821949008+ -->\n",
       "<g id=\"edge5\" class=\"edge\">\n",
       "<title>139745821941008&#45;&gt;139745821949008+</title>\n",
       "<path fill=\"none\" stroke=\"black\" d=\"M510.48,-84.65C520.2,-82.92 529.59,-81.25 538.01,-79.76\"/>\n",
       "<polygon fill=\"black\" stroke=\"black\" points=\"538.87,-83.16 548.1,-77.97 537.64,-76.27 538.87,-83.16\"/>\n",
       "</g>\n",
       "<!-- 139745821941008* -->\n",
       "<g id=\"node6\" class=\"node\">\n",
       "<title>139745821941008*</title>\n",
       "<ellipse fill=\"none\" stroke=\"black\" cx=\"254.86\" cy=\"-101.5\" rx=\"27\" ry=\"18\"/>\n",
       "<text text-anchor=\"middle\" x=\"254.86\" y=\"-97.3\" font-family=\"Times,serif\" font-size=\"14.00\">*</text>\n",
       "</g>\n",
       "<!-- 139745821941008*&#45;&gt;139745821941008 -->\n",
       "<g id=\"edge3\" class=\"edge\">\n",
       "<title>139745821941008*&#45;&gt;139745821941008</title>\n",
       "<path fill=\"none\" stroke=\"black\" d=\"M281.9,-101.5C289.84,-101.5 299.1,-101.5 308.96,-101.5\"/>\n",
       "<polygon fill=\"black\" stroke=\"black\" points=\"309,-105 319,-101.5 309,-98 309,-105\"/>\n",
       "</g>\n",
       "<!-- 139745821939472 -->\n",
       "<g id=\"node7\" class=\"node\">\n",
       "<title>139745821939472</title>\n",
       "<polygon fill=\"none\" stroke=\"black\" points=\"317.86,-28.5 317.86,-64.5 511.26,-64.5 511.26,-28.5 317.86,-28.5\"/>\n",
       "<text text-anchor=\"middle\" x=\"328.96\" y=\"-42.4\" font-family=\"Times,serif\" font-size=\"14.00\">c</text>\n",
       "<polyline fill=\"none\" stroke=\"black\" points=\"340.07,-28.7 340.07,-64.5 \"/>\n",
       "<text text-anchor=\"middle\" x=\"384.23\" y=\"-42.4\" font-family=\"Times,serif\" font-size=\"14.00\">data 10.0000</text>\n",
       "<polyline fill=\"none\" stroke=\"black\" points=\"428.39,-28.7 428.39,-64.5 \"/>\n",
       "<text text-anchor=\"middle\" x=\"469.82\" y=\"-42.4\" font-family=\"Times,serif\" font-size=\"14.00\">grad 0.0000</text>\n",
       "</g>\n",
       "<!-- 139745821939472&#45;&gt;139745821949008+ -->\n",
       "<g id=\"edge9\" class=\"edge\">\n",
       "<title>139745821939472&#45;&gt;139745821949008+</title>\n",
       "<path fill=\"none\" stroke=\"black\" d=\"M511.39,-62.91C520.71,-64.5 529.71,-66.04 537.82,-67.43\"/>\n",
       "<polygon fill=\"black\" stroke=\"black\" points=\"537.47,-70.92 547.91,-69.16 538.65,-64.02 537.47,-70.92\"/>\n",
       "</g>\n",
       "<!-- 139745821936976 -->\n",
       "<g id=\"node8\" class=\"node\">\n",
       "<title>139745821936976</title>\n",
       "<polygon fill=\"none\" stroke=\"black\" points=\"0,-111.5 0,-147.5 191.86,-147.5 191.86,-111.5 0,-111.5\"/>\n",
       "<text text-anchor=\"middle\" x=\"11.5\" y=\"-125.4\" font-family=\"Times,serif\" font-size=\"14.00\">b</text>\n",
       "<polyline fill=\"none\" stroke=\"black\" points=\"23,-111.7 23,-147.5 \"/>\n",
       "<text text-anchor=\"middle\" x=\"65.99\" y=\"-125.4\" font-family=\"Times,serif\" font-size=\"14.00\">data &#45;3.0000</text>\n",
       "<polyline fill=\"none\" stroke=\"black\" points=\"108.98,-111.7 108.98,-147.5 \"/>\n",
       "<text text-anchor=\"middle\" x=\"150.42\" y=\"-125.4\" font-family=\"Times,serif\" font-size=\"14.00\">grad 0.0000</text>\n",
       "</g>\n",
       "<!-- 139745821936976&#45;&gt;139745821941008* -->\n",
       "<g id=\"edge6\" class=\"edge\">\n",
       "<title>139745821936976&#45;&gt;139745821941008*</title>\n",
       "<path fill=\"none\" stroke=\"black\" d=\"M192.28,-112.49C201.57,-110.83 210.52,-109.23 218.58,-107.79\"/>\n",
       "<polygon fill=\"black\" stroke=\"black\" points=\"219.4,-111.2 228.63,-106 218.17,-104.31 219.4,-111.2\"/>\n",
       "</g>\n",
       "<!-- 139745821942608 -->\n",
       "<g id=\"node9\" class=\"node\">\n",
       "<title>139745821942608</title>\n",
       "<polygon fill=\"none\" stroke=\"black\" points=\"637.26,-0.5 637.26,-36.5 826.78,-36.5 826.78,-0.5 637.26,-0.5\"/>\n",
       "<text text-anchor=\"middle\" x=\"647.59\" y=\"-14.4\" font-family=\"Times,serif\" font-size=\"14.00\">f</text>\n",
       "<polyline fill=\"none\" stroke=\"black\" points=\"657.92,-0.7 657.92,-36.5 \"/>\n",
       "<text text-anchor=\"middle\" x=\"700.91\" y=\"-14.4\" font-family=\"Times,serif\" font-size=\"14.00\">data &#45;2.0000</text>\n",
       "<polyline fill=\"none\" stroke=\"black\" points=\"743.9,-0.7 743.9,-36.5 \"/>\n",
       "<text text-anchor=\"middle\" x=\"785.34\" y=\"-14.4\" font-family=\"Times,serif\" font-size=\"14.00\">grad 0.0000</text>\n",
       "</g>\n",
       "<!-- 139745821942608&#45;&gt;139745821934608* -->\n",
       "<g id=\"edge4\" class=\"edge\">\n",
       "<title>139745821942608&#45;&gt;139745821934608*</title>\n",
       "<path fill=\"none\" stroke=\"black\" d=\"M827.22,-34.83C836.49,-36.44 845.43,-37.99 853.49,-39.38\"/>\n",
       "<polygon fill=\"black\" stroke=\"black\" points=\"853.09,-42.86 863.54,-41.12 854.28,-35.97 853.09,-42.86\"/>\n",
       "</g>\n",
       "<!-- 139745821941712 -->\n",
       "<g id=\"node10\" class=\"node\">\n",
       "<title>139745821941712</title>\n",
       "<polygon fill=\"none\" stroke=\"black\" points=\"2.72,-56.5 2.72,-92.5 189.13,-92.5 189.13,-56.5 2.72,-56.5\"/>\n",
       "<text text-anchor=\"middle\" x=\"13.83\" y=\"-70.4\" font-family=\"Times,serif\" font-size=\"14.00\">a</text>\n",
       "<polyline fill=\"none\" stroke=\"black\" points=\"24.94,-56.7 24.94,-92.5 \"/>\n",
       "<text text-anchor=\"middle\" x=\"65.6\" y=\"-70.4\" font-family=\"Times,serif\" font-size=\"14.00\">data 2.0000</text>\n",
       "<polyline fill=\"none\" stroke=\"black\" points=\"106.26,-56.7 106.26,-92.5 \"/>\n",
       "<text text-anchor=\"middle\" x=\"147.69\" y=\"-70.4\" font-family=\"Times,serif\" font-size=\"14.00\">grad 0.0000</text>\n",
       "</g>\n",
       "<!-- 139745821941712&#45;&gt;139745821941008* -->\n",
       "<g id=\"edge8\" class=\"edge\">\n",
       "<title>139745821941712&#45;&gt;139745821941008*</title>\n",
       "<path fill=\"none\" stroke=\"black\" d=\"M189.57,-90.44C199.88,-92.21 209.84,-93.93 218.73,-95.46\"/>\n",
       "<polygon fill=\"black\" stroke=\"black\" points=\"218.17,-98.91 228.62,-97.16 219.35,-92.01 218.17,-98.91\"/>\n",
       "</g>\n",
       "</g>\n",
       "</svg>\n"
      ],
      "text/plain": [
       "<graphviz.graphs.Digraph at 0x7f191c12e510>"
      ]
     },
     "execution_count": 19,
     "metadata": {},
     "output_type": "execute_result"
    }
   ],
   "source": [
    "draw_dot(L)"
   ]
  },
  {
   "cell_type": "markdown",
   "metadata": {
    "id": "Mf5Q9ckNXJE4"
   },
   "source": [
    "# Computing Gradients using Chain Rule"
   ]
  },
  {
   "cell_type": "markdown",
   "metadata": {
    "id": "53Nsnj8xIWyU"
   },
   "source": [
    "We are now in a position to start computing gradients of `L` for the backward pass, with respect to all the variables that preceed it."
   ]
  },
  {
   "cell_type": "markdown",
   "metadata": {
    "id": "rhtaP3w4IiGA"
   },
   "source": [
    "Let's review some basic [Differential Calculus](https://en.wikipedia.org/wiki/Derivative).\n",
    "\n",
    "Consider, $L = f * d$.\n",
    "\n",
    "What is $\\frac{dL}{df}$?. The simple rules of derivatives tells us its, $d$.\n",
    "\n",
    "Let's move a step back.\n",
    "\n",
    "$d = c + e$.\n",
    "\n",
    "We know that $\\frac{dd}{de} = 1.0$.\n",
    "\n",
    "Now, what's $\\frac{dL}{de}$ ?\n",
    "\n",
    "Using the [chain rule](https://en.wikipedia.org/wiki/Chain_rule),\n",
    "\n",
    "$\\frac{dL}{de} = \\frac{dL}{dd} \\times \\frac{dd}{de} = \\frac{dL}{dd} \\times 1.0 = \\frac{dL}{dd}$\n",
    "\n",
    "Similarly,\n",
    "$\\frac{dL}{dc} = \\frac{dL}{dd}$.\n",
    "\n",
    "Using these observations and the Chain Rule in general, we can write a `_backward()` function for addition and multiplication which calculates tha gradients of the output with respect to its children.\n",
    "\n"
   ]
  },
  {
   "cell_type": "code",
   "execution_count": 20,
   "metadata": {
    "id": "GA6cxGc0KAxd"
   },
   "outputs": [],
   "source": [
    "class Value:\n",
    "  def __init__(self, data, _children=(), _op='', label=''):\n",
    "    self.data = data\n",
    "    self.grad = 0.0\n",
    "    self._backward = lambda: None\n",
    "    self._prev = _children\n",
    "    self.label = label\n",
    "    self._op = _op\n",
    "\n",
    "  def __repr__(self):\n",
    "    return f\"Value(data={self.data})\"\n",
    "\n",
    "  def __add__(self, other):\n",
    "    other = other if isinstance(other, Value) else Value(other)\n",
    "    out = Value(self.data + other.data, (self, other), '+')\n",
    "\n",
    "    def _backward():\n",
    "      self.grad += out.grad * 1.0\n",
    "      other.grad += out.grad * 1.0\n",
    "    out._backward = _backward\n",
    "    return out\n",
    "\n",
    "  def __mul__(self, other):\n",
    "    other = other if isinstance(other, Value) else Value(other)\n",
    "    out = Value(self.data * other.data, (self, other), '*')\n",
    "\n",
    "    def _backward():\n",
    "      self.grad += other.data * out.grad\n",
    "      other.grad += self.data * out.grad\n",
    "    out._backward = _backward\n",
    "    return out\n",
    "\n",
    "  def __rmul__(self, other): # other * self\n",
    "    return self * other"
   ]
  },
  {
   "cell_type": "code",
   "execution_count": 21,
   "metadata": {
    "colab": {
     "base_uri": "https://localhost:8080/"
    },
    "id": "6uuXo-4sK79A",
    "outputId": "25207e19-58c6-4918-838f-a3d0208acd6a"
   },
   "outputs": [
    {
     "data": {
      "text/plain": [
       "Value(data=-8.0)"
      ]
     },
     "execution_count": 21,
     "metadata": {},
     "output_type": "execute_result"
    }
   ],
   "source": [
    "a = Value(2.0, label='a')\n",
    "b = Value(-3.0, label='b')\n",
    "c = Value(10.0, label='c')\n",
    "e = a*b; e.label = 'e'\n",
    "d = e + c; d.label = 'd'\n",
    "f = Value(-2.0, label='f')\n",
    "L = d * f; L.label = 'L'\n",
    "L"
   ]
  },
  {
   "cell_type": "code",
   "execution_count": 22,
   "metadata": {
    "id": "ijRsxTjEOuF1"
   },
   "outputs": [],
   "source": [
    "L.grad = 1.0 # init the gradient with 1.0\n",
    "L._backward(); f._backward(); d._backward(); e._backward(); c._backward(); b._backward(); a._backward()"
   ]
  },
  {
   "cell_type": "code",
   "execution_count": 23,
   "metadata": {
    "colab": {
     "base_uri": "https://localhost:8080/",
     "height": 249
    },
    "id": "d0h5inz1PAO0",
    "outputId": "f134b4b2-24d7-4dcd-cdd5-b316cf64ebc3"
   },
   "outputs": [
    {
     "name": "stderr",
     "output_type": "stream",
     "text": [
      "Warning: Could not load \"/home/darkknightxi/miniconda3/bin/../lib/graphviz/libgvplugin_pango.so.6\" - It was found, so perhaps one of its dependents was not.  Try ldd.\n"
     ]
    },
    {
     "data": {
      "image/svg+xml": [
       "<?xml version=\"1.0\" encoding=\"UTF-8\" standalone=\"no\"?>\n",
       "<!DOCTYPE svg PUBLIC \"-//W3C//DTD SVG 1.1//EN\"\n",
       " \"http://www.w3.org/Graphics/SVG/1.1/DTD/svg11.dtd\">\n",
       "<!-- Generated by graphviz version 2.50.0 (0)\n",
       " -->\n",
       "<!-- Pages: 1 -->\n",
       "<svg width=\"1166pt\" height=\"128pt\"\n",
       " viewBox=\"0.00 0.00 1165.85 128.00\" xmlns=\"http://www.w3.org/2000/svg\" xmlns:xlink=\"http://www.w3.org/1999/xlink\">\n",
       "<g id=\"graph0\" class=\"graph\" transform=\"scale(1 1) rotate(0) translate(4 124)\">\n",
       "<polygon fill=\"white\" stroke=\"transparent\" points=\"-4,4 -4,-124 1161.85,-124 1161.85,4 -4,4\"/>\n",
       "<!-- 139745830334608 -->\n",
       "<g id=\"node1\" class=\"node\">\n",
       "<title>139745830334608</title>\n",
       "<polygon fill=\"none\" stroke=\"black\" points=\"964.44,-54.5 964.44,-90.5 1157.85,-90.5 1157.85,-54.5 964.44,-54.5\"/>\n",
       "<text text-anchor=\"middle\" x=\"976.72\" y=\"-68.4\" font-family=\"Times,serif\" font-size=\"14.00\">L</text>\n",
       "<polyline fill=\"none\" stroke=\"black\" points=\"988.99,-54.7 988.99,-90.5 \"/>\n",
       "<text text-anchor=\"middle\" x=\"1031.98\" y=\"-68.4\" font-family=\"Times,serif\" font-size=\"14.00\">data &#45;8.0000</text>\n",
       "<polyline fill=\"none\" stroke=\"black\" points=\"1074.97,-54.7 1074.97,-90.5 \"/>\n",
       "<text text-anchor=\"middle\" x=\"1116.41\" y=\"-68.4\" font-family=\"Times,serif\" font-size=\"14.00\">grad 1.0000</text>\n",
       "</g>\n",
       "<!-- 139745830334608* -->\n",
       "<g id=\"node2\" class=\"node\">\n",
       "<title>139745830334608*</title>\n",
       "<ellipse fill=\"none\" stroke=\"black\" cx=\"901.44\" cy=\"-72.5\" rx=\"27\" ry=\"18\"/>\n",
       "<text text-anchor=\"middle\" x=\"901.44\" y=\"-68.3\" font-family=\"Times,serif\" font-size=\"14.00\">*</text>\n",
       "</g>\n",
       "<!-- 139745830334608*&#45;&gt;139745830334608 -->\n",
       "<g id=\"edge1\" class=\"edge\">\n",
       "<title>139745830334608*&#45;&gt;139745830334608</title>\n",
       "<path fill=\"none\" stroke=\"black\" d=\"M928.48,-72.5C936,-72.5 944.7,-72.5 953.98,-72.5\"/>\n",
       "<polygon fill=\"black\" stroke=\"black\" points=\"954.24,-76 964.24,-72.5 954.24,-69 954.24,-76\"/>\n",
       "</g>\n",
       "<!-- 139745821846672 -->\n",
       "<g id=\"node3\" class=\"node\">\n",
       "<title>139745821846672</title>\n",
       "<polygon fill=\"none\" stroke=\"black\" points=\"5.06,-83.5 5.06,-119.5 191.46,-119.5 191.46,-83.5 5.06,-83.5\"/>\n",
       "<text text-anchor=\"middle\" x=\"16.16\" y=\"-97.4\" font-family=\"Times,serif\" font-size=\"14.00\">a</text>\n",
       "<polyline fill=\"none\" stroke=\"black\" points=\"27.27,-83.7 27.27,-119.5 \"/>\n",
       "<text text-anchor=\"middle\" x=\"67.93\" y=\"-97.4\" font-family=\"Times,serif\" font-size=\"14.00\">data 2.0000</text>\n",
       "<polyline fill=\"none\" stroke=\"black\" points=\"108.59,-83.7 108.59,-119.5 \"/>\n",
       "<text text-anchor=\"middle\" x=\"150.02\" y=\"-97.4\" font-family=\"Times,serif\" font-size=\"14.00\">grad 6.0000</text>\n",
       "</g>\n",
       "<!-- 139745830330640* -->\n",
       "<g id=\"node6\" class=\"node\">\n",
       "<title>139745830330640*</title>\n",
       "<ellipse fill=\"none\" stroke=\"black\" cx=\"259.52\" cy=\"-73.5\" rx=\"27\" ry=\"18\"/>\n",
       "<text text-anchor=\"middle\" x=\"259.52\" y=\"-69.3\" font-family=\"Times,serif\" font-size=\"14.00\">*</text>\n",
       "</g>\n",
       "<!-- 139745821846672&#45;&gt;139745830330640* -->\n",
       "<g id=\"edge8\" class=\"edge\">\n",
       "<title>139745821846672&#45;&gt;139745830330640*</title>\n",
       "<path fill=\"none\" stroke=\"black\" d=\"M191.9,-85.21C202.94,-83.27 213.63,-81.39 223.1,-79.73\"/>\n",
       "<polygon fill=\"black\" stroke=\"black\" points=\"223.99,-83.12 233.23,-77.95 222.78,-76.23 223.99,-83.12\"/>\n",
       "</g>\n",
       "<!-- 139745830338192 -->\n",
       "<g id=\"node4\" class=\"node\">\n",
       "<title>139745830338192</title>\n",
       "<polygon fill=\"none\" stroke=\"black\" points=\"647.76,-82.5 647.76,-118.5 837.27,-118.5 837.27,-82.5 647.76,-82.5\"/>\n",
       "<text text-anchor=\"middle\" x=\"658.09\" y=\"-96.4\" font-family=\"Times,serif\" font-size=\"14.00\">f</text>\n",
       "<polyline fill=\"none\" stroke=\"black\" points=\"668.42,-82.7 668.42,-118.5 \"/>\n",
       "<text text-anchor=\"middle\" x=\"711.41\" y=\"-96.4\" font-family=\"Times,serif\" font-size=\"14.00\">data &#45;2.0000</text>\n",
       "<polyline fill=\"none\" stroke=\"black\" points=\"754.4,-82.7 754.4,-118.5 \"/>\n",
       "<text text-anchor=\"middle\" x=\"795.84\" y=\"-96.4\" font-family=\"Times,serif\" font-size=\"14.00\">grad 4.0000</text>\n",
       "</g>\n",
       "<!-- 139745830338192&#45;&gt;139745830334608* -->\n",
       "<g id=\"edge7\" class=\"edge\">\n",
       "<title>139745830338192&#45;&gt;139745830334608*</title>\n",
       "<path fill=\"none\" stroke=\"black\" d=\"M837.52,-83.73C847.25,-81.99 856.65,-80.31 865.08,-78.81\"/>\n",
       "<polygon fill=\"black\" stroke=\"black\" points=\"865.97,-82.21 875.2,-77 864.74,-75.31 865.97,-82.21\"/>\n",
       "</g>\n",
       "<!-- 139745830330640 -->\n",
       "<g id=\"node5\" class=\"node\">\n",
       "<title>139745830330640</title>\n",
       "<polygon fill=\"none\" stroke=\"black\" points=\"323.69,-55.5 323.69,-91.5 519.42,-91.5 519.42,-55.5 323.69,-55.5\"/>\n",
       "<text text-anchor=\"middle\" x=\"334.79\" y=\"-69.4\" font-family=\"Times,serif\" font-size=\"14.00\">e</text>\n",
       "<polyline fill=\"none\" stroke=\"black\" points=\"345.9,-55.7 345.9,-91.5 \"/>\n",
       "<text text-anchor=\"middle\" x=\"388.89\" y=\"-69.4\" font-family=\"Times,serif\" font-size=\"14.00\">data &#45;6.0000</text>\n",
       "<polyline fill=\"none\" stroke=\"black\" points=\"431.88,-55.7 431.88,-91.5 \"/>\n",
       "<text text-anchor=\"middle\" x=\"475.65\" y=\"-69.4\" font-family=\"Times,serif\" font-size=\"14.00\">grad &#45;2.0000</text>\n",
       "</g>\n",
       "<!-- 139745830329680+ -->\n",
       "<g id=\"node9\" class=\"node\">\n",
       "<title>139745830329680+</title>\n",
       "<ellipse fill=\"none\" stroke=\"black\" cx=\"583.59\" cy=\"-45.5\" rx=\"27\" ry=\"18\"/>\n",
       "<text text-anchor=\"middle\" x=\"583.59\" y=\"-41.3\" font-family=\"Times,serif\" font-size=\"14.00\">+</text>\n",
       "</g>\n",
       "<!-- 139745830330640&#45;&gt;139745830329680+ -->\n",
       "<g id=\"edge9\" class=\"edge\">\n",
       "<title>139745830330640&#45;&gt;139745830329680+</title>\n",
       "<path fill=\"none\" stroke=\"black\" d=\"M519.8,-56.49C529.46,-54.8 538.77,-53.17 547.13,-51.7\"/>\n",
       "<polygon fill=\"black\" stroke=\"black\" points=\"547.92,-55.12 557.17,-49.95 546.71,-48.22 547.92,-55.12\"/>\n",
       "</g>\n",
       "<!-- 139745830330640*&#45;&gt;139745830330640 -->\n",
       "<g id=\"edge2\" class=\"edge\">\n",
       "<title>139745830330640*&#45;&gt;139745830330640</title>\n",
       "<path fill=\"none\" stroke=\"black\" d=\"M286.59,-73.5C294.49,-73.5 303.71,-73.5 313.55,-73.5\"/>\n",
       "<polygon fill=\"black\" stroke=\"black\" points=\"313.56,-77 323.56,-73.5 313.56,-70 313.56,-77\"/>\n",
       "</g>\n",
       "<!-- 139745836983056 -->\n",
       "<g id=\"node7\" class=\"node\">\n",
       "<title>139745836983056</title>\n",
       "<polygon fill=\"none\" stroke=\"black\" points=\"322.52,-0.5 322.52,-36.5 520.59,-36.5 520.59,-0.5 322.52,-0.5\"/>\n",
       "<text text-anchor=\"middle\" x=\"333.62\" y=\"-14.4\" font-family=\"Times,serif\" font-size=\"14.00\">c</text>\n",
       "<polyline fill=\"none\" stroke=\"black\" points=\"344.73,-0.7 344.73,-36.5 \"/>\n",
       "<text text-anchor=\"middle\" x=\"388.89\" y=\"-14.4\" font-family=\"Times,serif\" font-size=\"14.00\">data 10.0000</text>\n",
       "<polyline fill=\"none\" stroke=\"black\" points=\"433.05,-0.7 433.05,-36.5 \"/>\n",
       "<text text-anchor=\"middle\" x=\"476.82\" y=\"-14.4\" font-family=\"Times,serif\" font-size=\"14.00\">grad &#45;2.0000</text>\n",
       "</g>\n",
       "<!-- 139745836983056&#45;&gt;139745830329680+ -->\n",
       "<g id=\"edge5\" class=\"edge\">\n",
       "<title>139745836983056&#45;&gt;139745830329680+</title>\n",
       "<path fill=\"none\" stroke=\"black\" d=\"M520.71,-35.06C530.07,-36.64 539.08,-38.16 547.19,-39.53\"/>\n",
       "<polygon fill=\"black\" stroke=\"black\" points=\"546.84,-43.02 557.28,-41.23 548.01,-36.12 546.84,-43.02\"/>\n",
       "</g>\n",
       "<!-- 139745830329680 -->\n",
       "<g id=\"node8\" class=\"node\">\n",
       "<title>139745830329680</title>\n",
       "<polygon fill=\"none\" stroke=\"black\" points=\"646.59,-27.5 646.59,-63.5 838.44,-63.5 838.44,-27.5 646.59,-27.5\"/>\n",
       "<text text-anchor=\"middle\" x=\"658.09\" y=\"-41.4\" font-family=\"Times,serif\" font-size=\"14.00\">d</text>\n",
       "<polyline fill=\"none\" stroke=\"black\" points=\"669.59,-27.7 669.59,-63.5 \"/>\n",
       "<text text-anchor=\"middle\" x=\"710.25\" y=\"-41.4\" font-family=\"Times,serif\" font-size=\"14.00\">data 4.0000</text>\n",
       "<polyline fill=\"none\" stroke=\"black\" points=\"750.9,-27.7 750.9,-63.5 \"/>\n",
       "<text text-anchor=\"middle\" x=\"794.67\" y=\"-41.4\" font-family=\"Times,serif\" font-size=\"14.00\">grad &#45;2.0000</text>\n",
       "</g>\n",
       "<!-- 139745830329680&#45;&gt;139745830334608* -->\n",
       "<g id=\"edge6\" class=\"edge\">\n",
       "<title>139745830329680&#45;&gt;139745830334608*</title>\n",
       "<path fill=\"none\" stroke=\"black\" d=\"M838.87,-61.91C848.15,-63.5 857.1,-65.04 865.17,-66.43\"/>\n",
       "<polygon fill=\"black\" stroke=\"black\" points=\"864.77,-69.91 875.22,-68.16 865.96,-63.02 864.77,-69.91\"/>\n",
       "</g>\n",
       "<!-- 139745830329680+&#45;&gt;139745830329680 -->\n",
       "<g id=\"edge3\" class=\"edge\">\n",
       "<title>139745830329680+&#45;&gt;139745830329680</title>\n",
       "<path fill=\"none\" stroke=\"black\" d=\"M610.85,-45.5C618.35,-45.5 627.01,-45.5 636.23,-45.5\"/>\n",
       "<polygon fill=\"black\" stroke=\"black\" points=\"636.43,-49 646.43,-45.5 636.43,-42 636.43,-49\"/>\n",
       "</g>\n",
       "<!-- 139745830343568 -->\n",
       "<g id=\"node10\" class=\"node\">\n",
       "<title>139745830343568</title>\n",
       "<polygon fill=\"none\" stroke=\"black\" points=\"0,-28.5 0,-64.5 196.52,-64.5 196.52,-28.5 0,-28.5\"/>\n",
       "<text text-anchor=\"middle\" x=\"11.5\" y=\"-42.4\" font-family=\"Times,serif\" font-size=\"14.00\">b</text>\n",
       "<polyline fill=\"none\" stroke=\"black\" points=\"23,-28.7 23,-64.5 \"/>\n",
       "<text text-anchor=\"middle\" x=\"65.99\" y=\"-42.4\" font-family=\"Times,serif\" font-size=\"14.00\">data &#45;3.0000</text>\n",
       "<polyline fill=\"none\" stroke=\"black\" points=\"108.98,-28.7 108.98,-64.5 \"/>\n",
       "<text text-anchor=\"middle\" x=\"152.75\" y=\"-42.4\" font-family=\"Times,serif\" font-size=\"14.00\">grad &#45;4.0000</text>\n",
       "</g>\n",
       "<!-- 139745830343568&#45;&gt;139745830330640* -->\n",
       "<g id=\"edge4\" class=\"edge\">\n",
       "<title>139745830343568&#45;&gt;139745830330640*</title>\n",
       "<path fill=\"none\" stroke=\"black\" d=\"M196.94,-63.06C206.17,-64.62 215.05,-66.13 223.06,-67.49\"/>\n",
       "<polygon fill=\"black\" stroke=\"black\" points=\"222.59,-70.96 233.04,-69.18 223.76,-64.06 222.59,-70.96\"/>\n",
       "</g>\n",
       "</g>\n",
       "</svg>\n"
      ],
      "text/plain": [
       "<graphviz.graphs.Digraph at 0x7f191c136dd0>"
      ]
     },
     "execution_count": 23,
     "metadata": {},
     "output_type": "execute_result"
    }
   ],
   "source": [
    "draw_dot(L)"
   ]
  },
  {
   "cell_type": "markdown",
   "metadata": {
    "id": "Hqi21zmdPGWe"
   },
   "source": [
    "Next, let's create a single `backward()` function to compute all the gradients in one go."
   ]
  },
  {
   "cell_type": "markdown",
   "metadata": {
    "id": "1vFqGLiWXrzm"
   },
   "source": [
    "# Topological Sort"
   ]
  },
  {
   "cell_type": "markdown",
   "metadata": {
    "id": "CrUNvB2XNTvO"
   },
   "source": [
    "First, we want to convert the above graph into the sequence in which the nodes occur in the graph. This is done using [topological sort](https://en.wikipedia.org/wiki/Topological_sorting)."
   ]
  },
  {
   "cell_type": "code",
   "execution_count": 24,
   "metadata": {
    "colab": {
     "base_uri": "https://localhost:8080/"
    },
    "id": "1AmimWFoN55m",
    "outputId": "bd84ce29-2453-4854-8f5a-5eb38bf34a37"
   },
   "outputs": [
    {
     "data": {
      "text/plain": [
       "[Value(data=2.0),\n",
       " Value(data=-3.0),\n",
       " Value(data=-6.0),\n",
       " Value(data=10.0),\n",
       " Value(data=4.0),\n",
       " Value(data=-2.0),\n",
       " Value(data=-8.0)]"
      ]
     },
     "execution_count": 24,
     "metadata": {},
     "output_type": "execute_result"
    }
   ],
   "source": [
    "topo = []\n",
    "visited = set()\n",
    "def build_topo(v):\n",
    "  if v not in visited:\n",
    "    visited.add(v)\n",
    "    for child in v._prev:\n",
    "      build_topo(child)\n",
    "    topo.append(v)\n",
    "build_topo(L)\n",
    "topo"
   ]
  },
  {
   "cell_type": "markdown",
   "metadata": {
    "id": "v4yBnKt1OV21"
   },
   "source": [
    "The Values are in the correct order now. For the backward pass, we want to iterate this sequence in the reverse order and compute the gradients."
   ]
  },
  {
   "cell_type": "code",
   "execution_count": 25,
   "metadata": {
    "id": "eC2bdMvUOjP1"
   },
   "outputs": [],
   "source": [
    "for node in reversed(topo):\n",
    "  node._backward()"
   ]
  },
  {
   "cell_type": "markdown",
   "metadata": {
    "id": "WYueeOKZPiXe"
   },
   "source": [
    "Let's wrap this functionality into a `backward()` function in the `Value` class."
   ]
  },
  {
   "cell_type": "code",
   "execution_count": 26,
   "metadata": {
    "id": "vEjj69XUPx58"
   },
   "outputs": [],
   "source": [
    "class Value:\n",
    "  def __init__(self, data, _children=(), _op='', label=''):\n",
    "    self.data = data\n",
    "    self.grad = 0.0\n",
    "    self._backward = lambda: None\n",
    "    self._prev = _children\n",
    "    self.label = label\n",
    "    self._op = _op\n",
    "\n",
    "  def __repr__(self):\n",
    "    return f\"Value(data={self.data})\"\n",
    "\n",
    "  def __add__(self, other):\n",
    "    other = other if isinstance(other, Value) else Value(other)\n",
    "    out = Value(self.data + other.data, (self, other), '+')\n",
    "\n",
    "    def _backward():\n",
    "      self.grad += out.grad * 1.0\n",
    "      other.grad += out.grad * 1.0\n",
    "    out._backward = _backward\n",
    "    return out\n",
    "\n",
    "  def __mul__(self, other):\n",
    "    other = other if isinstance(other, Value) else Value(other)\n",
    "    out = Value(self.data * other.data, (self, other), '*')\n",
    "\n",
    "    def _backward():\n",
    "      self.grad += other.data * out.grad\n",
    "      other.grad += self.data * out.grad\n",
    "    out._backward = _backward\n",
    "    return out\n",
    "\n",
    "  def __rmul__(self, other): # other * self\n",
    "    return self * other\n",
    "\n",
    "  def backward(self):\n",
    "    topo = []\n",
    "    visited = set()\n",
    "    def build_topo(v):\n",
    "      if v not in visited:\n",
    "        visited.add(v)\n",
    "        for child in v._prev:\n",
    "          build_topo(child)\n",
    "        topo.append(v)\n",
    "    build_topo(self)\n",
    "\n",
    "    self.grad = 1.0\n",
    "    for node in reversed(topo):\n",
    "      node._backward()"
   ]
  },
  {
   "cell_type": "code",
   "execution_count": 27,
   "metadata": {
    "colab": {
     "base_uri": "https://localhost:8080/"
    },
    "id": "vknVZ7kaQKfN",
    "outputId": "76fa5a11-00b9-43eb-c0dc-952d1be855f6"
   },
   "outputs": [
    {
     "data": {
      "text/plain": [
       "Value(data=-8.0)"
      ]
     },
     "execution_count": 27,
     "metadata": {},
     "output_type": "execute_result"
    }
   ],
   "source": [
    "a = Value(2.0, label='a')\n",
    "b = Value(-3.0, label='b')\n",
    "c = Value(10.0, label='c')\n",
    "e = a*b; e.label = 'e'\n",
    "d = e + c; d.label = 'd'\n",
    "f = Value(-2.0, label='f')\n",
    "L = d * f; L.label = 'L'\n",
    "L"
   ]
  },
  {
   "cell_type": "code",
   "execution_count": 28,
   "metadata": {
    "id": "-VsLxJw9QQMl"
   },
   "outputs": [],
   "source": [
    "L.backward()"
   ]
  },
  {
   "cell_type": "code",
   "execution_count": 29,
   "metadata": {
    "colab": {
     "base_uri": "https://localhost:8080/",
     "height": 249
    },
    "id": "AB5oG440QSAO",
    "outputId": "4d9877be-efb4-4129-b215-bab63a4c4c86"
   },
   "outputs": [
    {
     "name": "stderr",
     "output_type": "stream",
     "text": [
      "Warning: Could not load \"/home/darkknightxi/miniconda3/bin/../lib/graphviz/libgvplugin_pango.so.6\" - It was found, so perhaps one of its dependents was not.  Try ldd.\n"
     ]
    },
    {
     "data": {
      "image/svg+xml": [
       "<?xml version=\"1.0\" encoding=\"UTF-8\" standalone=\"no\"?>\n",
       "<!DOCTYPE svg PUBLIC \"-//W3C//DTD SVG 1.1//EN\"\n",
       " \"http://www.w3.org/Graphics/SVG/1.1/DTD/svg11.dtd\">\n",
       "<!-- Generated by graphviz version 2.50.0 (0)\n",
       " -->\n",
       "<!-- Pages: 1 -->\n",
       "<svg width=\"1166pt\" height=\"154pt\"\n",
       " viewBox=\"0.00 0.00 1165.85 154.00\" xmlns=\"http://www.w3.org/2000/svg\" xmlns:xlink=\"http://www.w3.org/1999/xlink\">\n",
       "<g id=\"graph0\" class=\"graph\" transform=\"scale(1 1) rotate(0) translate(4 150)\">\n",
       "<polygon fill=\"white\" stroke=\"transparent\" points=\"-4,4 -4,-150 1161.85,-150 1161.85,4 -4,4\"/>\n",
       "<!-- 139745821948496 -->\n",
       "<g id=\"node1\" class=\"node\">\n",
       "<title>139745821948496</title>\n",
       "<polygon fill=\"none\" stroke=\"black\" points=\"647.76,-109.5 647.76,-145.5 837.27,-145.5 837.27,-109.5 647.76,-109.5\"/>\n",
       "<text text-anchor=\"middle\" x=\"658.09\" y=\"-123.4\" font-family=\"Times,serif\" font-size=\"14.00\">f</text>\n",
       "<polyline fill=\"none\" stroke=\"black\" points=\"668.42,-109.7 668.42,-145.5 \"/>\n",
       "<text text-anchor=\"middle\" x=\"711.41\" y=\"-123.4\" font-family=\"Times,serif\" font-size=\"14.00\">data &#45;2.0000</text>\n",
       "<polyline fill=\"none\" stroke=\"black\" points=\"754.4,-109.7 754.4,-145.5 \"/>\n",
       "<text text-anchor=\"middle\" x=\"795.84\" y=\"-123.4\" font-family=\"Times,serif\" font-size=\"14.00\">grad 4.0000</text>\n",
       "</g>\n",
       "<!-- 139745821941968* -->\n",
       "<g id=\"node3\" class=\"node\">\n",
       "<title>139745821941968*</title>\n",
       "<ellipse fill=\"none\" stroke=\"black\" cx=\"901.44\" cy=\"-99.5\" rx=\"27\" ry=\"18\"/>\n",
       "<text text-anchor=\"middle\" x=\"901.44\" y=\"-95.3\" font-family=\"Times,serif\" font-size=\"14.00\">*</text>\n",
       "</g>\n",
       "<!-- 139745821948496&#45;&gt;139745821941968* -->\n",
       "<g id=\"edge7\" class=\"edge\">\n",
       "<title>139745821948496&#45;&gt;139745821941968*</title>\n",
       "<path fill=\"none\" stroke=\"black\" d=\"M837.52,-110.73C847.25,-108.99 856.65,-107.31 865.08,-105.81\"/>\n",
       "<polygon fill=\"black\" stroke=\"black\" points=\"865.97,-109.21 875.2,-104 864.74,-102.31 865.97,-109.21\"/>\n",
       "</g>\n",
       "<!-- 139745821941968 -->\n",
       "<g id=\"node2\" class=\"node\">\n",
       "<title>139745821941968</title>\n",
       "<polygon fill=\"none\" stroke=\"black\" points=\"964.44,-81.5 964.44,-117.5 1157.85,-117.5 1157.85,-81.5 964.44,-81.5\"/>\n",
       "<text text-anchor=\"middle\" x=\"976.72\" y=\"-95.4\" font-family=\"Times,serif\" font-size=\"14.00\">L</text>\n",
       "<polyline fill=\"none\" stroke=\"black\" points=\"988.99,-81.7 988.99,-117.5 \"/>\n",
       "<text text-anchor=\"middle\" x=\"1031.98\" y=\"-95.4\" font-family=\"Times,serif\" font-size=\"14.00\">data &#45;8.0000</text>\n",
       "<polyline fill=\"none\" stroke=\"black\" points=\"1074.97,-81.7 1074.97,-117.5 \"/>\n",
       "<text text-anchor=\"middle\" x=\"1116.41\" y=\"-95.4\" font-family=\"Times,serif\" font-size=\"14.00\">grad 1.0000</text>\n",
       "</g>\n",
       "<!-- 139745821941968*&#45;&gt;139745821941968 -->\n",
       "<g id=\"edge1\" class=\"edge\">\n",
       "<title>139745821941968*&#45;&gt;139745821941968</title>\n",
       "<path fill=\"none\" stroke=\"black\" d=\"M928.48,-99.5C936,-99.5 944.7,-99.5 953.98,-99.5\"/>\n",
       "<polygon fill=\"black\" stroke=\"black\" points=\"954.24,-103 964.24,-99.5 954.24,-96 954.24,-103\"/>\n",
       "</g>\n",
       "<!-- 139745821909776 -->\n",
       "<g id=\"node4\" class=\"node\">\n",
       "<title>139745821909776</title>\n",
       "<polygon fill=\"none\" stroke=\"black\" points=\"5.06,-55.5 5.06,-91.5 191.46,-91.5 191.46,-55.5 5.06,-55.5\"/>\n",
       "<text text-anchor=\"middle\" x=\"16.16\" y=\"-69.4\" font-family=\"Times,serif\" font-size=\"14.00\">a</text>\n",
       "<polyline fill=\"none\" stroke=\"black\" points=\"27.27,-55.7 27.27,-91.5 \"/>\n",
       "<text text-anchor=\"middle\" x=\"67.93\" y=\"-69.4\" font-family=\"Times,serif\" font-size=\"14.00\">data 2.0000</text>\n",
       "<polyline fill=\"none\" stroke=\"black\" points=\"108.59,-55.7 108.59,-91.5 \"/>\n",
       "<text text-anchor=\"middle\" x=\"150.02\" y=\"-69.4\" font-family=\"Times,serif\" font-size=\"14.00\">grad 6.0000</text>\n",
       "</g>\n",
       "<!-- 139745821948240* -->\n",
       "<g id=\"node9\" class=\"node\">\n",
       "<title>139745821948240*</title>\n",
       "<ellipse fill=\"none\" stroke=\"black\" cx=\"259.52\" cy=\"-45.5\" rx=\"27\" ry=\"18\"/>\n",
       "<text text-anchor=\"middle\" x=\"259.52\" y=\"-41.3\" font-family=\"Times,serif\" font-size=\"14.00\">*</text>\n",
       "</g>\n",
       "<!-- 139745821909776&#45;&gt;139745821948240* -->\n",
       "<g id=\"edge4\" class=\"edge\">\n",
       "<title>139745821909776&#45;&gt;139745821948240*</title>\n",
       "<path fill=\"none\" stroke=\"black\" d=\"M191.9,-57.21C202.94,-55.27 213.63,-53.39 223.1,-51.73\"/>\n",
       "<polygon fill=\"black\" stroke=\"black\" points=\"223.99,-55.12 233.23,-49.95 222.78,-48.23 223.99,-55.12\"/>\n",
       "</g>\n",
       "<!-- 139745821939984 -->\n",
       "<g id=\"node5\" class=\"node\">\n",
       "<title>139745821939984</title>\n",
       "<polygon fill=\"none\" stroke=\"black\" points=\"322.52,-82.5 322.52,-118.5 520.59,-118.5 520.59,-82.5 322.52,-82.5\"/>\n",
       "<text text-anchor=\"middle\" x=\"333.62\" y=\"-96.4\" font-family=\"Times,serif\" font-size=\"14.00\">c</text>\n",
       "<polyline fill=\"none\" stroke=\"black\" points=\"344.73,-82.7 344.73,-118.5 \"/>\n",
       "<text text-anchor=\"middle\" x=\"388.89\" y=\"-96.4\" font-family=\"Times,serif\" font-size=\"14.00\">data 10.0000</text>\n",
       "<polyline fill=\"none\" stroke=\"black\" points=\"433.05,-82.7 433.05,-118.5 \"/>\n",
       "<text text-anchor=\"middle\" x=\"476.82\" y=\"-96.4\" font-family=\"Times,serif\" font-size=\"14.00\">grad &#45;2.0000</text>\n",
       "</g>\n",
       "<!-- 139745821934928+ -->\n",
       "<g id=\"node7\" class=\"node\">\n",
       "<title>139745821934928+</title>\n",
       "<ellipse fill=\"none\" stroke=\"black\" cx=\"583.59\" cy=\"-72.5\" rx=\"27\" ry=\"18\"/>\n",
       "<text text-anchor=\"middle\" x=\"583.59\" y=\"-68.3\" font-family=\"Times,serif\" font-size=\"14.00\">+</text>\n",
       "</g>\n",
       "<!-- 139745821939984&#45;&gt;139745821934928+ -->\n",
       "<g id=\"edge5\" class=\"edge\">\n",
       "<title>139745821939984&#45;&gt;139745821934928+</title>\n",
       "<path fill=\"none\" stroke=\"black\" d=\"M520.71,-83.33C530.07,-81.69 539.08,-80.11 547.19,-78.69\"/>\n",
       "<polygon fill=\"black\" stroke=\"black\" points=\"548.04,-82.1 557.28,-76.93 546.83,-75.2 548.04,-82.1\"/>\n",
       "</g>\n",
       "<!-- 139745821934928 -->\n",
       "<g id=\"node6\" class=\"node\">\n",
       "<title>139745821934928</title>\n",
       "<polygon fill=\"none\" stroke=\"black\" points=\"646.59,-54.5 646.59,-90.5 838.44,-90.5 838.44,-54.5 646.59,-54.5\"/>\n",
       "<text text-anchor=\"middle\" x=\"658.09\" y=\"-68.4\" font-family=\"Times,serif\" font-size=\"14.00\">d</text>\n",
       "<polyline fill=\"none\" stroke=\"black\" points=\"669.59,-54.7 669.59,-90.5 \"/>\n",
       "<text text-anchor=\"middle\" x=\"710.25\" y=\"-68.4\" font-family=\"Times,serif\" font-size=\"14.00\">data 4.0000</text>\n",
       "<polyline fill=\"none\" stroke=\"black\" points=\"750.9,-54.7 750.9,-90.5 \"/>\n",
       "<text text-anchor=\"middle\" x=\"794.67\" y=\"-68.4\" font-family=\"Times,serif\" font-size=\"14.00\">grad &#45;2.0000</text>\n",
       "</g>\n",
       "<!-- 139745821934928&#45;&gt;139745821941968* -->\n",
       "<g id=\"edge8\" class=\"edge\">\n",
       "<title>139745821934928&#45;&gt;139745821941968*</title>\n",
       "<path fill=\"none\" stroke=\"black\" d=\"M838.87,-88.91C848.15,-90.5 857.1,-92.04 865.17,-93.43\"/>\n",
       "<polygon fill=\"black\" stroke=\"black\" points=\"864.77,-96.91 875.22,-95.16 865.96,-90.02 864.77,-96.91\"/>\n",
       "</g>\n",
       "<!-- 139745821934928+&#45;&gt;139745821934928 -->\n",
       "<g id=\"edge2\" class=\"edge\">\n",
       "<title>139745821934928+&#45;&gt;139745821934928</title>\n",
       "<path fill=\"none\" stroke=\"black\" d=\"M610.85,-72.5C618.35,-72.5 627.01,-72.5 636.23,-72.5\"/>\n",
       "<polygon fill=\"black\" stroke=\"black\" points=\"636.43,-76 646.43,-72.5 636.43,-69 636.43,-76\"/>\n",
       "</g>\n",
       "<!-- 139745821948240 -->\n",
       "<g id=\"node8\" class=\"node\">\n",
       "<title>139745821948240</title>\n",
       "<polygon fill=\"none\" stroke=\"black\" points=\"323.69,-27.5 323.69,-63.5 519.42,-63.5 519.42,-27.5 323.69,-27.5\"/>\n",
       "<text text-anchor=\"middle\" x=\"334.79\" y=\"-41.4\" font-family=\"Times,serif\" font-size=\"14.00\">e</text>\n",
       "<polyline fill=\"none\" stroke=\"black\" points=\"345.9,-27.7 345.9,-63.5 \"/>\n",
       "<text text-anchor=\"middle\" x=\"388.89\" y=\"-41.4\" font-family=\"Times,serif\" font-size=\"14.00\">data &#45;6.0000</text>\n",
       "<polyline fill=\"none\" stroke=\"black\" points=\"431.88,-27.7 431.88,-63.5 \"/>\n",
       "<text text-anchor=\"middle\" x=\"475.65\" y=\"-41.4\" font-family=\"Times,serif\" font-size=\"14.00\">grad &#45;2.0000</text>\n",
       "</g>\n",
       "<!-- 139745821948240&#45;&gt;139745821934928+ -->\n",
       "<g id=\"edge6\" class=\"edge\">\n",
       "<title>139745821948240&#45;&gt;139745821934928+</title>\n",
       "<path fill=\"none\" stroke=\"black\" d=\"M519.8,-61.91C529.46,-63.54 538.77,-65.11 547.13,-66.52\"/>\n",
       "<polygon fill=\"black\" stroke=\"black\" points=\"546.72,-70 557.17,-68.21 547.89,-63.1 546.72,-70\"/>\n",
       "</g>\n",
       "<!-- 139745821948240*&#45;&gt;139745821948240 -->\n",
       "<g id=\"edge3\" class=\"edge\">\n",
       "<title>139745821948240*&#45;&gt;139745821948240</title>\n",
       "<path fill=\"none\" stroke=\"black\" d=\"M286.59,-45.5C294.49,-45.5 303.71,-45.5 313.55,-45.5\"/>\n",
       "<polygon fill=\"black\" stroke=\"black\" points=\"313.56,-49 323.56,-45.5 313.56,-42 313.56,-49\"/>\n",
       "</g>\n",
       "<!-- 139745835960720 -->\n",
       "<g id=\"node10\" class=\"node\">\n",
       "<title>139745835960720</title>\n",
       "<polygon fill=\"none\" stroke=\"black\" points=\"0,-0.5 0,-36.5 196.52,-36.5 196.52,-0.5 0,-0.5\"/>\n",
       "<text text-anchor=\"middle\" x=\"11.5\" y=\"-14.4\" font-family=\"Times,serif\" font-size=\"14.00\">b</text>\n",
       "<polyline fill=\"none\" stroke=\"black\" points=\"23,-0.7 23,-36.5 \"/>\n",
       "<text text-anchor=\"middle\" x=\"65.99\" y=\"-14.4\" font-family=\"Times,serif\" font-size=\"14.00\">data &#45;3.0000</text>\n",
       "<polyline fill=\"none\" stroke=\"black\" points=\"108.98,-0.7 108.98,-36.5 \"/>\n",
       "<text text-anchor=\"middle\" x=\"152.75\" y=\"-14.4\" font-family=\"Times,serif\" font-size=\"14.00\">grad &#45;4.0000</text>\n",
       "</g>\n",
       "<!-- 139745835960720&#45;&gt;139745821948240* -->\n",
       "<g id=\"edge9\" class=\"edge\">\n",
       "<title>139745835960720&#45;&gt;139745821948240*</title>\n",
       "<path fill=\"none\" stroke=\"black\" d=\"M196.94,-35.06C206.17,-36.62 215.05,-38.13 223.06,-39.49\"/>\n",
       "<polygon fill=\"black\" stroke=\"black\" points=\"222.59,-42.96 233.04,-41.18 223.76,-36.06 222.59,-42.96\"/>\n",
       "</g>\n",
       "</g>\n",
       "</svg>\n"
      ],
      "text/plain": [
       "<graphviz.graphs.Digraph at 0x7f19570d1150>"
      ]
     },
     "execution_count": 29,
     "metadata": {},
     "output_type": "execute_result"
    }
   ],
   "source": [
    "draw_dot(L)"
   ]
  },
  {
   "cell_type": "markdown",
   "metadata": {
    "id": "sW6yZmz_QU8s"
   },
   "source": [
    "Voila! We've successfully implemented the backward pass."
   ]
  },
  {
   "cell_type": "markdown",
   "metadata": {},
   "source": [
    "# Activation Functions"
   ]
  },
  {
   "cell_type": "markdown",
   "metadata": {
    "id": "o-6PCRKxQsJK"
   },
   "source": [
    "Next, let's add some activation functions in the mix. `tanh` and `relu` are two of the most popular activation functions.\n",
    "$$ \\tanh x={\\frac {e^{2x}-1}{e^{2x}+1}}.$$\n",
    "\n",
    "$$ ReLU(x)={\\begin{cases}x&;{\\text{if }}x>0,\\\\0&;{\\text{otherwise}}\\end{cases}}$$\n",
    "\n",
    "The derivative of $\\tanh$ turns out to be:\n",
    "$$\n",
    "\\frac{d\\tanh}{dx} = 1 - \\tanh^2(x)\n",
    "$$\n",
    "$ReLU$'s derivative is trivial to work out."
   ]
  },
  {
   "cell_type": "code",
   "execution_count": 30,
   "metadata": {
    "id": "00msmoSnSExn"
   },
   "outputs": [],
   "source": [
    "def tanh(self):\n",
    "  x = self.data\n",
    "  t = (math.exp(2*x) - 1)/(math.exp(2*x) + 1)\n",
    "  out = Value(t, (self, ), 'tanh')\n",
    "\n",
    "  def _backward():\n",
    "    self.grad += (1 - t**2) * out.grad\n",
    "  out._backward = _backward\n",
    "  return out\n",
    "\n",
    "def relu(self):\n",
    "  out = Value(self.data if self.data > 0 else 0, (self, ), 'ReLU')\n",
    "\n",
    "  def _backward():\n",
    "    self.grad += (out.data > 0) * out.grad\n",
    "  out._backward = _backward\n",
    "  return out"
   ]
  },
  {
   "cell_type": "markdown",
   "metadata": {
    "id": "qflt-hedXym_"
   },
   "source": [
    "# The AutoGrad Engine"
   ]
  },
  {
   "cell_type": "markdown",
   "metadata": {
    "id": "6oQQjDtWUle_"
   },
   "source": [
    "Here's what our `Value` class now looks like, in its full glory. The `Value` class is now a full-fledged autograd engine, ready to train neural networks (See [part 2](https://darkknightxi.github.io/blog/posts/littlegrad/nn.html) for building and training neural nets)."
   ]
  },
  {
   "cell_type": "code",
   "execution_count": 31,
   "metadata": {
    "id": "ahhk4EIDVEdQ"
   },
   "outputs": [],
   "source": [
    "class Value:\n",
    "  def __init__(self, data, _children=(), _op='', label=''):\n",
    "    self.data = data\n",
    "    self.grad = 0.0\n",
    "    self._backward = lambda: None\n",
    "    self._prev = _children\n",
    "    self.label = label\n",
    "    self._op = _op\n",
    "\n",
    "  def __add__(self, other):\n",
    "    other = other if isinstance(other, Value) else Value(other)\n",
    "    out = Value(self.data + other.data, (self, other), '+')\n",
    "\n",
    "    def _backward():\n",
    "      self.grad += out.grad * 1.0\n",
    "      other.grad += out.grad * 1.0\n",
    "    out._backward = _backward\n",
    "    return out\n",
    "\n",
    "  def __mul__(self, other):\n",
    "    other = other if isinstance(other, Value) else Value(other)\n",
    "    out = Value(self.data * other.data, (self, other), '*')\n",
    "\n",
    "    def _backward():\n",
    "      self.grad += other.data * out.grad\n",
    "      other.grad += self.data * out.grad\n",
    "    out._backward = _backward\n",
    "    return out\n",
    "\n",
    "  def __rmul__(self, other): # other * self\n",
    "    return self * other\n",
    "\n",
    "  def tanh(self):\n",
    "    x = self.data\n",
    "    t = (math.exp(2*x) - 1)/(math.exp(2*x) + 1)\n",
    "    out = Value(t, (self, ), 'tanh')\n",
    "\n",
    "    def _backward():\n",
    "      self.grad += (1 - t**2) * out.grad\n",
    "    out._backward = _backward\n",
    "    return out\n",
    "\n",
    "  def relu(self):\n",
    "    out = Value(self.data if self.data > 0 else 0, (self, ), 'ReLU')\n",
    "\n",
    "    def _backward():\n",
    "      self.grad += (out.data > 0) * out.grad\n",
    "    out._backward = _backward\n",
    "    return out\n",
    "\n",
    "  def backward(self):\n",
    "    topo = []\n",
    "    visited = set()\n",
    "    def build_topo(v):\n",
    "      if v not in visited:\n",
    "        visited.add(v)\n",
    "        for child in v._prev:\n",
    "          build_topo(child)\n",
    "        topo.append(v)\n",
    "    build_topo(self)\n",
    "\n",
    "    self.grad = 1.0\n",
    "    for node in reversed(topo):\n",
    "      node._backward()\n",
    "\n",
    "    def __repr__(self):\n",
    "      return f\"Value(data={self.data}, grad={self.grad})\""
   ]
  },
  {
   "cell_type": "markdown",
   "metadata": {
    "id": "GZIwYV-KX86o"
   },
   "source": [
    "# Example using a Neural Network"
   ]
  },
  {
   "cell_type": "markdown",
   "metadata": {
    "id": "Zqkst9ZwVDG1"
   },
   "source": [
    "Let's test our engine on a toy neural network."
   ]
  },
  {
   "cell_type": "code",
   "execution_count": 32,
   "metadata": {
    "id": "yEi-34RIG-I0"
   },
   "outputs": [],
   "source": [
    "# inputs x1,x2\n",
    "x1 = Value(2.0, label='x1')\n",
    "x2 = Value(0.0, label='x2')\n",
    "# weights w1,w2\n",
    "w1 = Value(-3.0, label='w1')\n",
    "w2 = Value(1.0, label='w2')\n",
    "# bias of the neuron\n",
    "b = Value(6.8813735870195432, label='b')\n",
    "# x1*w1 + x2*w2 + b\n",
    "x1w1 = x1*w1; x1w1.label = 'x1*w1'\n",
    "x2w2 = x2*w2; x2w2.label = 'x2*w2'\n",
    "x1w1x2w2 = x1w1 + x2w2; x1w1x2w2.label = 'x1*w1 + x2*w2'\n",
    "n = x1w1x2w2 + b; n.label = 'n'\n",
    "o = n.tanh(); o.label = 'o'"
   ]
  },
  {
   "cell_type": "code",
   "execution_count": 33,
   "metadata": {
    "colab": {
     "base_uri": "https://localhost:8080/",
     "height": 321
    },
    "id": "VyHEafITEKw9",
    "outputId": "f49decc7-e5ef-4195-cfd4-29a600f1f9ad"
   },
   "outputs": [
    {
     "name": "stderr",
     "output_type": "stream",
     "text": [
      "Warning: Could not load \"/home/darkknightxi/miniconda3/bin/../lib/graphviz/libgvplugin_pango.so.6\" - It was found, so perhaps one of its dependents was not.  Try ldd.\n"
     ]
    },
    {
     "data": {
      "image/svg+xml": [
       "<?xml version=\"1.0\" encoding=\"UTF-8\" standalone=\"no\"?>\n",
       "<!DOCTYPE svg PUBLIC \"-//W3C//DTD SVG 1.1//EN\"\n",
       " \"http://www.w3.org/Graphics/SVG/1.1/DTD/svg11.dtd\">\n",
       "<!-- Generated by graphviz version 2.50.0 (0)\n",
       " -->\n",
       "<!-- Pages: 1 -->\n",
       "<svg width=\"1589pt\" height=\"210pt\"\n",
       " viewBox=\"0.00 0.00 1588.62 210.00\" xmlns=\"http://www.w3.org/2000/svg\" xmlns:xlink=\"http://www.w3.org/1999/xlink\">\n",
       "<g id=\"graph0\" class=\"graph\" transform=\"scale(1 1) rotate(0) translate(4 206)\">\n",
       "<polygon fill=\"white\" stroke=\"transparent\" points=\"-4,4 -4,-206 1584.62,-206 1584.62,4 -4,4\"/>\n",
       "<!-- 139745822090256 -->\n",
       "<g id=\"node1\" class=\"node\">\n",
       "<title>139745822090256</title>\n",
       "<polygon fill=\"none\" stroke=\"black\" points=\"1393.42,-54.5 1393.42,-90.5 1580.62,-90.5 1580.62,-54.5 1393.42,-54.5\"/>\n",
       "<text text-anchor=\"middle\" x=\"1404.92\" y=\"-68.4\" font-family=\"Times,serif\" font-size=\"14.00\">o</text>\n",
       "<polyline fill=\"none\" stroke=\"black\" points=\"1416.42,-54.7 1416.42,-90.5 \"/>\n",
       "<text text-anchor=\"middle\" x=\"1457.08\" y=\"-68.4\" font-family=\"Times,serif\" font-size=\"14.00\">data 0.7071</text>\n",
       "<polyline fill=\"none\" stroke=\"black\" points=\"1497.74,-54.7 1497.74,-90.5 \"/>\n",
       "<text text-anchor=\"middle\" x=\"1539.18\" y=\"-68.4\" font-family=\"Times,serif\" font-size=\"14.00\">grad 0.0000</text>\n",
       "</g>\n",
       "<!-- 139745822090256tanh -->\n",
       "<g id=\"node2\" class=\"node\">\n",
       "<title>139745822090256tanh</title>\n",
       "<ellipse fill=\"none\" stroke=\"black\" cx=\"1329.76\" cy=\"-72.5\" rx=\"27.83\" ry=\"18\"/>\n",
       "<text text-anchor=\"middle\" x=\"1329.76\" y=\"-68.3\" font-family=\"Times,serif\" font-size=\"14.00\">tanh</text>\n",
       "</g>\n",
       "<!-- 139745822090256tanh&#45;&gt;139745822090256 -->\n",
       "<g id=\"edge1\" class=\"edge\">\n",
       "<title>139745822090256tanh&#45;&gt;139745822090256</title>\n",
       "<path fill=\"none\" stroke=\"black\" d=\"M1357.45,-72.5C1365.03,-72.5 1373.76,-72.5 1383.04,-72.5\"/>\n",
       "<polygon fill=\"black\" stroke=\"black\" points=\"1383.29,-76 1393.29,-72.5 1383.29,-69 1383.29,-76\"/>\n",
       "</g>\n",
       "<!-- 139745822095888 -->\n",
       "<g id=\"node3\" class=\"node\">\n",
       "<title>139745822095888</title>\n",
       "<polygon fill=\"none\" stroke=\"black\" points=\"0,-55.5 0,-91.5 201.97,-91.5 201.97,-55.5 0,-55.5\"/>\n",
       "<text text-anchor=\"middle\" x=\"16.56\" y=\"-69.4\" font-family=\"Times,serif\" font-size=\"14.00\">w1</text>\n",
       "<polyline fill=\"none\" stroke=\"black\" points=\"33.11,-55.7 33.11,-91.5 \"/>\n",
       "<text text-anchor=\"middle\" x=\"76.1\" y=\"-69.4\" font-family=\"Times,serif\" font-size=\"14.00\">data &#45;3.0000</text>\n",
       "<polyline fill=\"none\" stroke=\"black\" points=\"119.09,-55.7 119.09,-91.5 \"/>\n",
       "<text text-anchor=\"middle\" x=\"160.53\" y=\"-69.4\" font-family=\"Times,serif\" font-size=\"14.00\">grad 0.0000</text>\n",
       "</g>\n",
       "<!-- 139745822090128* -->\n",
       "<g id=\"node11\" class=\"node\">\n",
       "<title>139745822090128*</title>\n",
       "<ellipse fill=\"none\" stroke=\"black\" cx=\"264.97\" cy=\"-73.5\" rx=\"27\" ry=\"18\"/>\n",
       "<text text-anchor=\"middle\" x=\"264.97\" y=\"-69.3\" font-family=\"Times,serif\" font-size=\"14.00\">*</text>\n",
       "</g>\n",
       "<!-- 139745822095888&#45;&gt;139745822090128* -->\n",
       "<g id=\"edge13\" class=\"edge\">\n",
       "<title>139745822095888&#45;&gt;139745822090128*</title>\n",
       "<path fill=\"none\" stroke=\"black\" d=\"M202.26,-73.5C211.25,-73.5 219.9,-73.5 227.74,-73.5\"/>\n",
       "<polygon fill=\"black\" stroke=\"black\" points=\"227.88,-77 237.88,-73.5 227.88,-70 227.88,-77\"/>\n",
       "</g>\n",
       "<!-- 139745822093392 -->\n",
       "<g id=\"node4\" class=\"node\">\n",
       "<title>139745822093392</title>\n",
       "<polygon fill=\"none\" stroke=\"black\" points=\"676.93,-82.5 676.93,-118.5 952.9,-118.5 952.9,-82.5 676.93,-82.5\"/>\n",
       "<text text-anchor=\"middle\" x=\"730.49\" y=\"-96.4\" font-family=\"Times,serif\" font-size=\"14.00\">x1*w1 + x2*w2</text>\n",
       "<polyline fill=\"none\" stroke=\"black\" points=\"784.05,-82.7 784.05,-118.5 \"/>\n",
       "<text text-anchor=\"middle\" x=\"827.04\" y=\"-96.4\" font-family=\"Times,serif\" font-size=\"14.00\">data &#45;6.0000</text>\n",
       "<polyline fill=\"none\" stroke=\"black\" points=\"870.03,-82.7 870.03,-118.5 \"/>\n",
       "<text text-anchor=\"middle\" x=\"911.47\" y=\"-96.4\" font-family=\"Times,serif\" font-size=\"14.00\">grad 0.0000</text>\n",
       "</g>\n",
       "<!-- 139745822095248+ -->\n",
       "<g id=\"node15\" class=\"node\">\n",
       "<title>139745822095248+</title>\n",
       "<ellipse fill=\"none\" stroke=\"black\" cx=\"1015.9\" cy=\"-72.5\" rx=\"27\" ry=\"18\"/>\n",
       "<text text-anchor=\"middle\" x=\"1015.9\" y=\"-68.3\" font-family=\"Times,serif\" font-size=\"14.00\">+</text>\n",
       "</g>\n",
       "<!-- 139745822093392&#45;&gt;139745822095248+ -->\n",
       "<g id=\"edge10\" class=\"edge\">\n",
       "<title>139745822093392&#45;&gt;139745822095248+</title>\n",
       "<path fill=\"none\" stroke=\"black\" d=\"M943.91,-82.49C956.56,-80.71 968.54,-79.02 978.94,-77.56\"/>\n",
       "<polygon fill=\"black\" stroke=\"black\" points=\"979.74,-80.98 989.15,-76.12 978.76,-74.05 979.74,-80.98\"/>\n",
       "</g>\n",
       "<!-- 139745822093392+ -->\n",
       "<g id=\"node5\" class=\"node\">\n",
       "<title>139745822093392+</title>\n",
       "<ellipse fill=\"none\" stroke=\"black\" cx=\"613.93\" cy=\"-100.5\" rx=\"27\" ry=\"18\"/>\n",
       "<text text-anchor=\"middle\" x=\"613.93\" y=\"-96.3\" font-family=\"Times,serif\" font-size=\"14.00\">+</text>\n",
       "</g>\n",
       "<!-- 139745822093392+&#45;&gt;139745822093392 -->\n",
       "<g id=\"edge2\" class=\"edge\">\n",
       "<title>139745822093392+&#45;&gt;139745822093392</title>\n",
       "<path fill=\"none\" stroke=\"black\" d=\"M640.95,-100.5C648.37,-100.5 657.04,-100.5 666.45,-100.5\"/>\n",
       "<polygon fill=\"black\" stroke=\"black\" points=\"666.52,-104 676.52,-100.5 666.52,-97 666.52,-104\"/>\n",
       "</g>\n",
       "<!-- 139745822094928 -->\n",
       "<g id=\"node6\" class=\"node\">\n",
       "<title>139745822094928</title>\n",
       "<polygon fill=\"none\" stroke=\"black\" points=\"330.3,-110.5 330.3,-146.5 548.6,-146.5 548.6,-110.5 330.3,-110.5\"/>\n",
       "<text text-anchor=\"middle\" x=\"357.35\" y=\"-124.4\" font-family=\"Times,serif\" font-size=\"14.00\">x2*w2</text>\n",
       "<polyline fill=\"none\" stroke=\"black\" points=\"384.41,-110.7 384.41,-146.5 \"/>\n",
       "<text text-anchor=\"middle\" x=\"425.07\" y=\"-124.4\" font-family=\"Times,serif\" font-size=\"14.00\">data 0.0000</text>\n",
       "<polyline fill=\"none\" stroke=\"black\" points=\"465.72,-110.7 465.72,-146.5 \"/>\n",
       "<text text-anchor=\"middle\" x=\"507.16\" y=\"-124.4\" font-family=\"Times,serif\" font-size=\"14.00\">grad 0.0000</text>\n",
       "</g>\n",
       "<!-- 139745822094928&#45;&gt;139745822093392+ -->\n",
       "<g id=\"edge9\" class=\"edge\">\n",
       "<title>139745822094928&#45;&gt;139745822093392+</title>\n",
       "<path fill=\"none\" stroke=\"black\" d=\"M548.71,-110.93C558.91,-109.27 568.67,-107.69 577.36,-106.27\"/>\n",
       "<polygon fill=\"black\" stroke=\"black\" points=\"578.09,-109.7 587.4,-104.64 576.97,-102.79 578.09,-109.7\"/>\n",
       "</g>\n",
       "<!-- 139745822094928* -->\n",
       "<g id=\"node7\" class=\"node\">\n",
       "<title>139745822094928*</title>\n",
       "<ellipse fill=\"none\" stroke=\"black\" cx=\"264.97\" cy=\"-128.5\" rx=\"27\" ry=\"18\"/>\n",
       "<text text-anchor=\"middle\" x=\"264.97\" y=\"-124.3\" font-family=\"Times,serif\" font-size=\"14.00\">*</text>\n",
       "</g>\n",
       "<!-- 139745822094928*&#45;&gt;139745822094928 -->\n",
       "<g id=\"edge3\" class=\"edge\">\n",
       "<title>139745822094928*&#45;&gt;139745822094928</title>\n",
       "<path fill=\"none\" stroke=\"black\" d=\"M292.16,-128.5C300.3,-128.5 309.86,-128.5 320.13,-128.5\"/>\n",
       "<polygon fill=\"black\" stroke=\"black\" points=\"320.17,-132 330.17,-128.5 320.17,-125 320.17,-132\"/>\n",
       "</g>\n",
       "<!-- 139745822090320 -->\n",
       "<g id=\"node8\" class=\"node\">\n",
       "<title>139745822090320</title>\n",
       "<polygon fill=\"none\" stroke=\"black\" points=\"3.89,-165.5 3.89,-201.5 198.08,-201.5 198.08,-165.5 3.89,-165.5\"/>\n",
       "<text text-anchor=\"middle\" x=\"18.89\" y=\"-179.4\" font-family=\"Times,serif\" font-size=\"14.00\">x2</text>\n",
       "<polyline fill=\"none\" stroke=\"black\" points=\"33.89,-165.7 33.89,-201.5 \"/>\n",
       "<text text-anchor=\"middle\" x=\"74.54\" y=\"-179.4\" font-family=\"Times,serif\" font-size=\"14.00\">data 0.0000</text>\n",
       "<polyline fill=\"none\" stroke=\"black\" points=\"115.2,-165.7 115.2,-201.5 \"/>\n",
       "<text text-anchor=\"middle\" x=\"156.64\" y=\"-179.4\" font-family=\"Times,serif\" font-size=\"14.00\">grad 0.0000</text>\n",
       "</g>\n",
       "<!-- 139745822090320&#45;&gt;139745822094928* -->\n",
       "<g id=\"edge7\" class=\"edge\">\n",
       "<title>139745822090320&#45;&gt;139745822094928*</title>\n",
       "<path fill=\"none\" stroke=\"black\" d=\"M174.23,-165.48C183.63,-162.7 193.08,-159.68 201.97,-156.5 212.5,-152.73 223.73,-147.91 233.69,-143.34\"/>\n",
       "<polygon fill=\"black\" stroke=\"black\" points=\"235.22,-146.49 242.79,-139.08 232.25,-140.15 235.22,-146.49\"/>\n",
       "</g>\n",
       "<!-- 139745822094480 -->\n",
       "<g id=\"node9\" class=\"node\">\n",
       "<title>139745822094480</title>\n",
       "<polygon fill=\"none\" stroke=\"black\" points=\"2.33,-110.5 2.33,-146.5 199.63,-146.5 199.63,-110.5 2.33,-110.5\"/>\n",
       "<text text-anchor=\"middle\" x=\"18.89\" y=\"-124.4\" font-family=\"Times,serif\" font-size=\"14.00\">w2</text>\n",
       "<polyline fill=\"none\" stroke=\"black\" points=\"35.44,-110.7 35.44,-146.5 \"/>\n",
       "<text text-anchor=\"middle\" x=\"76.1\" y=\"-124.4\" font-family=\"Times,serif\" font-size=\"14.00\">data 1.0000</text>\n",
       "<polyline fill=\"none\" stroke=\"black\" points=\"116.76,-110.7 116.76,-146.5 \"/>\n",
       "<text text-anchor=\"middle\" x=\"158.2\" y=\"-124.4\" font-family=\"Times,serif\" font-size=\"14.00\">grad 0.0000</text>\n",
       "</g>\n",
       "<!-- 139745822094480&#45;&gt;139745822094928* -->\n",
       "<g id=\"edge14\" class=\"edge\">\n",
       "<title>139745822094480&#45;&gt;139745822094928*</title>\n",
       "<path fill=\"none\" stroke=\"black\" d=\"M199.95,-128.5C209.69,-128.5 219.09,-128.5 227.55,-128.5\"/>\n",
       "<polygon fill=\"black\" stroke=\"black\" points=\"227.72,-132 237.72,-128.5 227.72,-125 227.72,-132\"/>\n",
       "</g>\n",
       "<!-- 139745822090128 -->\n",
       "<g id=\"node10\" class=\"node\">\n",
       "<title>139745822090128</title>\n",
       "<polygon fill=\"none\" stroke=\"black\" points=\"327.97,-55.5 327.97,-91.5 550.93,-91.5 550.93,-55.5 327.97,-55.5\"/>\n",
       "<text text-anchor=\"middle\" x=\"355.02\" y=\"-69.4\" font-family=\"Times,serif\" font-size=\"14.00\">x1*w1</text>\n",
       "<polyline fill=\"none\" stroke=\"black\" points=\"382.08,-55.7 382.08,-91.5 \"/>\n",
       "<text text-anchor=\"middle\" x=\"425.07\" y=\"-69.4\" font-family=\"Times,serif\" font-size=\"14.00\">data &#45;6.0000</text>\n",
       "<polyline fill=\"none\" stroke=\"black\" points=\"468.06,-55.7 468.06,-91.5 \"/>\n",
       "<text text-anchor=\"middle\" x=\"509.49\" y=\"-69.4\" font-family=\"Times,serif\" font-size=\"14.00\">grad 0.0000</text>\n",
       "</g>\n",
       "<!-- 139745822090128&#45;&gt;139745822093392+ -->\n",
       "<g id=\"edge11\" class=\"edge\">\n",
       "<title>139745822090128&#45;&gt;139745822093392+</title>\n",
       "<path fill=\"none\" stroke=\"black\" d=\"M551.15,-90.83C560.55,-92.3 569.52,-93.7 577.57,-94.97\"/>\n",
       "<polygon fill=\"black\" stroke=\"black\" points=\"577.17,-98.44 587.59,-96.53 578.25,-91.53 577.17,-98.44\"/>\n",
       "</g>\n",
       "<!-- 139745822090128*&#45;&gt;139745822090128 -->\n",
       "<g id=\"edge4\" class=\"edge\">\n",
       "<title>139745822090128*&#45;&gt;139745822090128</title>\n",
       "<path fill=\"none\" stroke=\"black\" d=\"M292.16,-73.5C299.72,-73.5 308.49,-73.5 317.92,-73.5\"/>\n",
       "<polygon fill=\"black\" stroke=\"black\" points=\"317.95,-77 327.95,-73.5 317.95,-70 317.95,-77\"/>\n",
       "</g>\n",
       "<!-- 139745822090640 -->\n",
       "<g id=\"node12\" class=\"node\">\n",
       "<title>139745822090640</title>\n",
       "<polygon fill=\"none\" stroke=\"black\" points=\"721.32,-27.5 721.32,-63.5 908.51,-63.5 908.51,-27.5 721.32,-27.5\"/>\n",
       "<text text-anchor=\"middle\" x=\"732.82\" y=\"-41.4\" font-family=\"Times,serif\" font-size=\"14.00\">b</text>\n",
       "<polyline fill=\"none\" stroke=\"black\" points=\"744.32,-27.7 744.32,-63.5 \"/>\n",
       "<text text-anchor=\"middle\" x=\"784.98\" y=\"-41.4\" font-family=\"Times,serif\" font-size=\"14.00\">data 6.8814</text>\n",
       "<polyline fill=\"none\" stroke=\"black\" points=\"825.64,-27.7 825.64,-63.5 \"/>\n",
       "<text text-anchor=\"middle\" x=\"867.08\" y=\"-41.4\" font-family=\"Times,serif\" font-size=\"14.00\">grad 0.0000</text>\n",
       "</g>\n",
       "<!-- 139745822090640&#45;&gt;139745822095248+ -->\n",
       "<g id=\"edge12\" class=\"edge\">\n",
       "<title>139745822090640&#45;&gt;139745822095248+</title>\n",
       "<path fill=\"none\" stroke=\"black\" d=\"M908.71,-58.09C933.79,-61.49 959.44,-64.97 979.24,-67.66\"/>\n",
       "<polygon fill=\"black\" stroke=\"black\" points=\"978.94,-71.15 989.32,-69.03 979.88,-64.22 978.94,-71.15\"/>\n",
       "</g>\n",
       "<!-- 139745822090512 -->\n",
       "<g id=\"node13\" class=\"node\">\n",
       "<title>139745822090512</title>\n",
       "<polygon fill=\"none\" stroke=\"black\" points=\"3.89,-0.5 3.89,-36.5 198.08,-36.5 198.08,-0.5 3.89,-0.5\"/>\n",
       "<text text-anchor=\"middle\" x=\"18.89\" y=\"-14.4\" font-family=\"Times,serif\" font-size=\"14.00\">x1</text>\n",
       "<polyline fill=\"none\" stroke=\"black\" points=\"33.89,-0.7 33.89,-36.5 \"/>\n",
       "<text text-anchor=\"middle\" x=\"74.54\" y=\"-14.4\" font-family=\"Times,serif\" font-size=\"14.00\">data 2.0000</text>\n",
       "<polyline fill=\"none\" stroke=\"black\" points=\"115.2,-0.7 115.2,-36.5 \"/>\n",
       "<text text-anchor=\"middle\" x=\"156.64\" y=\"-14.4\" font-family=\"Times,serif\" font-size=\"14.00\">grad 0.0000</text>\n",
       "</g>\n",
       "<!-- 139745822090512&#45;&gt;139745822090128* -->\n",
       "<g id=\"edge6\" class=\"edge\">\n",
       "<title>139745822090512&#45;&gt;139745822090128*</title>\n",
       "<path fill=\"none\" stroke=\"black\" d=\"M174.23,-36.52C183.63,-39.3 193.08,-42.32 201.97,-45.5 212.5,-49.27 223.73,-54.09 233.69,-58.66\"/>\n",
       "<polygon fill=\"black\" stroke=\"black\" points=\"232.25,-61.85 242.79,-62.92 235.22,-55.51 232.25,-61.85\"/>\n",
       "</g>\n",
       "<!-- 139745822095248 -->\n",
       "<g id=\"node14\" class=\"node\">\n",
       "<title>139745822095248</title>\n",
       "<polygon fill=\"none\" stroke=\"black\" points=\"1078.9,-54.5 1078.9,-90.5 1266.1,-90.5 1266.1,-54.5 1078.9,-54.5\"/>\n",
       "<text text-anchor=\"middle\" x=\"1090.4\" y=\"-68.4\" font-family=\"Times,serif\" font-size=\"14.00\">n</text>\n",
       "<polyline fill=\"none\" stroke=\"black\" points=\"1101.9,-54.7 1101.9,-90.5 \"/>\n",
       "<text text-anchor=\"middle\" x=\"1142.56\" y=\"-68.4\" font-family=\"Times,serif\" font-size=\"14.00\">data 0.8814</text>\n",
       "<polyline fill=\"none\" stroke=\"black\" points=\"1183.22,-54.7 1183.22,-90.5 \"/>\n",
       "<text text-anchor=\"middle\" x=\"1224.66\" y=\"-68.4\" font-family=\"Times,serif\" font-size=\"14.00\">grad 0.0000</text>\n",
       "</g>\n",
       "<!-- 139745822095248&#45;&gt;139745822090256tanh -->\n",
       "<g id=\"edge8\" class=\"edge\">\n",
       "<title>139745822095248&#45;&gt;139745822090256tanh</title>\n",
       "<path fill=\"none\" stroke=\"black\" d=\"M1266.5,-72.5C1275.38,-72.5 1283.98,-72.5 1291.82,-72.5\"/>\n",
       "<polygon fill=\"black\" stroke=\"black\" points=\"1291.97,-76 1301.97,-72.5 1291.97,-69 1291.97,-76\"/>\n",
       "</g>\n",
       "<!-- 139745822095248+&#45;&gt;139745822095248 -->\n",
       "<g id=\"edge5\" class=\"edge\">\n",
       "<title>139745822095248+&#45;&gt;139745822095248</title>\n",
       "<path fill=\"none\" stroke=\"black\" d=\"M1043.13,-72.5C1050.66,-72.5 1059.36,-72.5 1068.6,-72.5\"/>\n",
       "<polygon fill=\"black\" stroke=\"black\" points=\"1068.83,-76 1078.83,-72.5 1068.83,-69 1068.83,-76\"/>\n",
       "</g>\n",
       "</g>\n",
       "</svg>\n"
      ],
      "text/plain": [
       "<graphviz.graphs.Digraph at 0x7f191c12ff50>"
      ]
     },
     "execution_count": 33,
     "metadata": {},
     "output_type": "execute_result"
    }
   ],
   "source": [
    "draw_dot(o)"
   ]
  },
  {
   "cell_type": "code",
   "execution_count": 34,
   "metadata": {
    "id": "Iss9jlfCVfsc"
   },
   "outputs": [],
   "source": [
    "o.backward()"
   ]
  },
  {
   "cell_type": "code",
   "execution_count": 35,
   "metadata": {
    "colab": {
     "base_uri": "https://localhost:8080/",
     "height": 321
    },
    "id": "ZVOnC0_pVhbg",
    "outputId": "46bb1a72-b70c-4051-aff0-476004cf2822"
   },
   "outputs": [
    {
     "name": "stderr",
     "output_type": "stream",
     "text": [
      "Warning: Could not load \"/home/darkknightxi/miniconda3/bin/../lib/graphviz/libgvplugin_pango.so.6\" - It was found, so perhaps one of its dependents was not.  Try ldd.\n"
     ]
    },
    {
     "data": {
      "image/svg+xml": [
       "<?xml version=\"1.0\" encoding=\"UTF-8\" standalone=\"no\"?>\n",
       "<!DOCTYPE svg PUBLIC \"-//W3C//DTD SVG 1.1//EN\"\n",
       " \"http://www.w3.org/Graphics/SVG/1.1/DTD/svg11.dtd\">\n",
       "<!-- Generated by graphviz version 2.50.0 (0)\n",
       " -->\n",
       "<!-- Pages: 1 -->\n",
       "<svg width=\"1589pt\" height=\"210pt\"\n",
       " viewBox=\"0.00 0.00 1588.62 210.00\" xmlns=\"http://www.w3.org/2000/svg\" xmlns:xlink=\"http://www.w3.org/1999/xlink\">\n",
       "<g id=\"graph0\" class=\"graph\" transform=\"scale(1 1) rotate(0) translate(4 206)\">\n",
       "<polygon fill=\"white\" stroke=\"transparent\" points=\"-4,4 -4,-206 1584.62,-206 1584.62,4 -4,4\"/>\n",
       "<!-- 139745822090256 -->\n",
       "<g id=\"node1\" class=\"node\">\n",
       "<title>139745822090256</title>\n",
       "<polygon fill=\"none\" stroke=\"black\" points=\"1393.42,-54.5 1393.42,-90.5 1580.62,-90.5 1580.62,-54.5 1393.42,-54.5\"/>\n",
       "<text text-anchor=\"middle\" x=\"1404.92\" y=\"-68.4\" font-family=\"Times,serif\" font-size=\"14.00\">o</text>\n",
       "<polyline fill=\"none\" stroke=\"black\" points=\"1416.42,-54.7 1416.42,-90.5 \"/>\n",
       "<text text-anchor=\"middle\" x=\"1457.08\" y=\"-68.4\" font-family=\"Times,serif\" font-size=\"14.00\">data 0.7071</text>\n",
       "<polyline fill=\"none\" stroke=\"black\" points=\"1497.74,-54.7 1497.74,-90.5 \"/>\n",
       "<text text-anchor=\"middle\" x=\"1539.18\" y=\"-68.4\" font-family=\"Times,serif\" font-size=\"14.00\">grad 1.0000</text>\n",
       "</g>\n",
       "<!-- 139745822090256tanh -->\n",
       "<g id=\"node2\" class=\"node\">\n",
       "<title>139745822090256tanh</title>\n",
       "<ellipse fill=\"none\" stroke=\"black\" cx=\"1329.76\" cy=\"-72.5\" rx=\"27.83\" ry=\"18\"/>\n",
       "<text text-anchor=\"middle\" x=\"1329.76\" y=\"-68.3\" font-family=\"Times,serif\" font-size=\"14.00\">tanh</text>\n",
       "</g>\n",
       "<!-- 139745822090256tanh&#45;&gt;139745822090256 -->\n",
       "<g id=\"edge1\" class=\"edge\">\n",
       "<title>139745822090256tanh&#45;&gt;139745822090256</title>\n",
       "<path fill=\"none\" stroke=\"black\" d=\"M1357.45,-72.5C1365.03,-72.5 1373.76,-72.5 1383.04,-72.5\"/>\n",
       "<polygon fill=\"black\" stroke=\"black\" points=\"1383.29,-76 1393.29,-72.5 1383.29,-69 1383.29,-76\"/>\n",
       "</g>\n",
       "<!-- 139745822095888 -->\n",
       "<g id=\"node3\" class=\"node\">\n",
       "<title>139745822095888</title>\n",
       "<polygon fill=\"none\" stroke=\"black\" points=\"0,-55.5 0,-91.5 201.97,-91.5 201.97,-55.5 0,-55.5\"/>\n",
       "<text text-anchor=\"middle\" x=\"16.56\" y=\"-69.4\" font-family=\"Times,serif\" font-size=\"14.00\">w1</text>\n",
       "<polyline fill=\"none\" stroke=\"black\" points=\"33.11,-55.7 33.11,-91.5 \"/>\n",
       "<text text-anchor=\"middle\" x=\"76.1\" y=\"-69.4\" font-family=\"Times,serif\" font-size=\"14.00\">data &#45;3.0000</text>\n",
       "<polyline fill=\"none\" stroke=\"black\" points=\"119.09,-55.7 119.09,-91.5 \"/>\n",
       "<text text-anchor=\"middle\" x=\"160.53\" y=\"-69.4\" font-family=\"Times,serif\" font-size=\"14.00\">grad 1.0000</text>\n",
       "</g>\n",
       "<!-- 139745822090128* -->\n",
       "<g id=\"node11\" class=\"node\">\n",
       "<title>139745822090128*</title>\n",
       "<ellipse fill=\"none\" stroke=\"black\" cx=\"264.97\" cy=\"-73.5\" rx=\"27\" ry=\"18\"/>\n",
       "<text text-anchor=\"middle\" x=\"264.97\" y=\"-69.3\" font-family=\"Times,serif\" font-size=\"14.00\">*</text>\n",
       "</g>\n",
       "<!-- 139745822095888&#45;&gt;139745822090128* -->\n",
       "<g id=\"edge13\" class=\"edge\">\n",
       "<title>139745822095888&#45;&gt;139745822090128*</title>\n",
       "<path fill=\"none\" stroke=\"black\" d=\"M202.26,-73.5C211.25,-73.5 219.9,-73.5 227.74,-73.5\"/>\n",
       "<polygon fill=\"black\" stroke=\"black\" points=\"227.88,-77 237.88,-73.5 227.88,-70 227.88,-77\"/>\n",
       "</g>\n",
       "<!-- 139745822093392 -->\n",
       "<g id=\"node4\" class=\"node\">\n",
       "<title>139745822093392</title>\n",
       "<polygon fill=\"none\" stroke=\"black\" points=\"676.93,-82.5 676.93,-118.5 952.9,-118.5 952.9,-82.5 676.93,-82.5\"/>\n",
       "<text text-anchor=\"middle\" x=\"730.49\" y=\"-96.4\" font-family=\"Times,serif\" font-size=\"14.00\">x1*w1 + x2*w2</text>\n",
       "<polyline fill=\"none\" stroke=\"black\" points=\"784.05,-82.7 784.05,-118.5 \"/>\n",
       "<text text-anchor=\"middle\" x=\"827.04\" y=\"-96.4\" font-family=\"Times,serif\" font-size=\"14.00\">data &#45;6.0000</text>\n",
       "<polyline fill=\"none\" stroke=\"black\" points=\"870.03,-82.7 870.03,-118.5 \"/>\n",
       "<text text-anchor=\"middle\" x=\"911.47\" y=\"-96.4\" font-family=\"Times,serif\" font-size=\"14.00\">grad 0.5000</text>\n",
       "</g>\n",
       "<!-- 139745822095248+ -->\n",
       "<g id=\"node15\" class=\"node\">\n",
       "<title>139745822095248+</title>\n",
       "<ellipse fill=\"none\" stroke=\"black\" cx=\"1015.9\" cy=\"-72.5\" rx=\"27\" ry=\"18\"/>\n",
       "<text text-anchor=\"middle\" x=\"1015.9\" y=\"-68.3\" font-family=\"Times,serif\" font-size=\"14.00\">+</text>\n",
       "</g>\n",
       "<!-- 139745822093392&#45;&gt;139745822095248+ -->\n",
       "<g id=\"edge10\" class=\"edge\">\n",
       "<title>139745822093392&#45;&gt;139745822095248+</title>\n",
       "<path fill=\"none\" stroke=\"black\" d=\"M943.91,-82.49C956.56,-80.71 968.54,-79.02 978.94,-77.56\"/>\n",
       "<polygon fill=\"black\" stroke=\"black\" points=\"979.74,-80.98 989.15,-76.12 978.76,-74.05 979.74,-80.98\"/>\n",
       "</g>\n",
       "<!-- 139745822093392+ -->\n",
       "<g id=\"node5\" class=\"node\">\n",
       "<title>139745822093392+</title>\n",
       "<ellipse fill=\"none\" stroke=\"black\" cx=\"613.93\" cy=\"-100.5\" rx=\"27\" ry=\"18\"/>\n",
       "<text text-anchor=\"middle\" x=\"613.93\" y=\"-96.3\" font-family=\"Times,serif\" font-size=\"14.00\">+</text>\n",
       "</g>\n",
       "<!-- 139745822093392+&#45;&gt;139745822093392 -->\n",
       "<g id=\"edge2\" class=\"edge\">\n",
       "<title>139745822093392+&#45;&gt;139745822093392</title>\n",
       "<path fill=\"none\" stroke=\"black\" d=\"M640.95,-100.5C648.37,-100.5 657.04,-100.5 666.45,-100.5\"/>\n",
       "<polygon fill=\"black\" stroke=\"black\" points=\"666.52,-104 676.52,-100.5 666.52,-97 666.52,-104\"/>\n",
       "</g>\n",
       "<!-- 139745822094928 -->\n",
       "<g id=\"node6\" class=\"node\">\n",
       "<title>139745822094928</title>\n",
       "<polygon fill=\"none\" stroke=\"black\" points=\"330.3,-110.5 330.3,-146.5 548.6,-146.5 548.6,-110.5 330.3,-110.5\"/>\n",
       "<text text-anchor=\"middle\" x=\"357.35\" y=\"-124.4\" font-family=\"Times,serif\" font-size=\"14.00\">x2*w2</text>\n",
       "<polyline fill=\"none\" stroke=\"black\" points=\"384.41,-110.7 384.41,-146.5 \"/>\n",
       "<text text-anchor=\"middle\" x=\"425.07\" y=\"-124.4\" font-family=\"Times,serif\" font-size=\"14.00\">data 0.0000</text>\n",
       "<polyline fill=\"none\" stroke=\"black\" points=\"465.72,-110.7 465.72,-146.5 \"/>\n",
       "<text text-anchor=\"middle\" x=\"507.16\" y=\"-124.4\" font-family=\"Times,serif\" font-size=\"14.00\">grad 0.5000</text>\n",
       "</g>\n",
       "<!-- 139745822094928&#45;&gt;139745822093392+ -->\n",
       "<g id=\"edge9\" class=\"edge\">\n",
       "<title>139745822094928&#45;&gt;139745822093392+</title>\n",
       "<path fill=\"none\" stroke=\"black\" d=\"M548.71,-110.93C558.91,-109.27 568.67,-107.69 577.36,-106.27\"/>\n",
       "<polygon fill=\"black\" stroke=\"black\" points=\"578.09,-109.7 587.4,-104.64 576.97,-102.79 578.09,-109.7\"/>\n",
       "</g>\n",
       "<!-- 139745822094928* -->\n",
       "<g id=\"node7\" class=\"node\">\n",
       "<title>139745822094928*</title>\n",
       "<ellipse fill=\"none\" stroke=\"black\" cx=\"264.97\" cy=\"-128.5\" rx=\"27\" ry=\"18\"/>\n",
       "<text text-anchor=\"middle\" x=\"264.97\" y=\"-124.3\" font-family=\"Times,serif\" font-size=\"14.00\">*</text>\n",
       "</g>\n",
       "<!-- 139745822094928*&#45;&gt;139745822094928 -->\n",
       "<g id=\"edge3\" class=\"edge\">\n",
       "<title>139745822094928*&#45;&gt;139745822094928</title>\n",
       "<path fill=\"none\" stroke=\"black\" d=\"M292.16,-128.5C300.3,-128.5 309.86,-128.5 320.13,-128.5\"/>\n",
       "<polygon fill=\"black\" stroke=\"black\" points=\"320.17,-132 330.17,-128.5 320.17,-125 320.17,-132\"/>\n",
       "</g>\n",
       "<!-- 139745822090320 -->\n",
       "<g id=\"node8\" class=\"node\">\n",
       "<title>139745822090320</title>\n",
       "<polygon fill=\"none\" stroke=\"black\" points=\"3.89,-165.5 3.89,-201.5 198.08,-201.5 198.08,-165.5 3.89,-165.5\"/>\n",
       "<text text-anchor=\"middle\" x=\"18.89\" y=\"-179.4\" font-family=\"Times,serif\" font-size=\"14.00\">x2</text>\n",
       "<polyline fill=\"none\" stroke=\"black\" points=\"33.89,-165.7 33.89,-201.5 \"/>\n",
       "<text text-anchor=\"middle\" x=\"74.54\" y=\"-179.4\" font-family=\"Times,serif\" font-size=\"14.00\">data 0.0000</text>\n",
       "<polyline fill=\"none\" stroke=\"black\" points=\"115.2,-165.7 115.2,-201.5 \"/>\n",
       "<text text-anchor=\"middle\" x=\"156.64\" y=\"-179.4\" font-family=\"Times,serif\" font-size=\"14.00\">grad 0.5000</text>\n",
       "</g>\n",
       "<!-- 139745822090320&#45;&gt;139745822094928* -->\n",
       "<g id=\"edge7\" class=\"edge\">\n",
       "<title>139745822090320&#45;&gt;139745822094928*</title>\n",
       "<path fill=\"none\" stroke=\"black\" d=\"M174.23,-165.48C183.63,-162.7 193.08,-159.68 201.97,-156.5 212.5,-152.73 223.73,-147.91 233.69,-143.34\"/>\n",
       "<polygon fill=\"black\" stroke=\"black\" points=\"235.22,-146.49 242.79,-139.08 232.25,-140.15 235.22,-146.49\"/>\n",
       "</g>\n",
       "<!-- 139745822094480 -->\n",
       "<g id=\"node9\" class=\"node\">\n",
       "<title>139745822094480</title>\n",
       "<polygon fill=\"none\" stroke=\"black\" points=\"2.33,-110.5 2.33,-146.5 199.63,-146.5 199.63,-110.5 2.33,-110.5\"/>\n",
       "<text text-anchor=\"middle\" x=\"18.89\" y=\"-124.4\" font-family=\"Times,serif\" font-size=\"14.00\">w2</text>\n",
       "<polyline fill=\"none\" stroke=\"black\" points=\"35.44,-110.7 35.44,-146.5 \"/>\n",
       "<text text-anchor=\"middle\" x=\"76.1\" y=\"-124.4\" font-family=\"Times,serif\" font-size=\"14.00\">data 1.0000</text>\n",
       "<polyline fill=\"none\" stroke=\"black\" points=\"116.76,-110.7 116.76,-146.5 \"/>\n",
       "<text text-anchor=\"middle\" x=\"158.2\" y=\"-124.4\" font-family=\"Times,serif\" font-size=\"14.00\">grad 0.0000</text>\n",
       "</g>\n",
       "<!-- 139745822094480&#45;&gt;139745822094928* -->\n",
       "<g id=\"edge14\" class=\"edge\">\n",
       "<title>139745822094480&#45;&gt;139745822094928*</title>\n",
       "<path fill=\"none\" stroke=\"black\" d=\"M199.95,-128.5C209.69,-128.5 219.09,-128.5 227.55,-128.5\"/>\n",
       "<polygon fill=\"black\" stroke=\"black\" points=\"227.72,-132 237.72,-128.5 227.72,-125 227.72,-132\"/>\n",
       "</g>\n",
       "<!-- 139745822090128 -->\n",
       "<g id=\"node10\" class=\"node\">\n",
       "<title>139745822090128</title>\n",
       "<polygon fill=\"none\" stroke=\"black\" points=\"327.97,-55.5 327.97,-91.5 550.93,-91.5 550.93,-55.5 327.97,-55.5\"/>\n",
       "<text text-anchor=\"middle\" x=\"355.02\" y=\"-69.4\" font-family=\"Times,serif\" font-size=\"14.00\">x1*w1</text>\n",
       "<polyline fill=\"none\" stroke=\"black\" points=\"382.08,-55.7 382.08,-91.5 \"/>\n",
       "<text text-anchor=\"middle\" x=\"425.07\" y=\"-69.4\" font-family=\"Times,serif\" font-size=\"14.00\">data &#45;6.0000</text>\n",
       "<polyline fill=\"none\" stroke=\"black\" points=\"468.06,-55.7 468.06,-91.5 \"/>\n",
       "<text text-anchor=\"middle\" x=\"509.49\" y=\"-69.4\" font-family=\"Times,serif\" font-size=\"14.00\">grad 0.5000</text>\n",
       "</g>\n",
       "<!-- 139745822090128&#45;&gt;139745822093392+ -->\n",
       "<g id=\"edge11\" class=\"edge\">\n",
       "<title>139745822090128&#45;&gt;139745822093392+</title>\n",
       "<path fill=\"none\" stroke=\"black\" d=\"M551.15,-90.83C560.55,-92.3 569.52,-93.7 577.57,-94.97\"/>\n",
       "<polygon fill=\"black\" stroke=\"black\" points=\"577.17,-98.44 587.59,-96.53 578.25,-91.53 577.17,-98.44\"/>\n",
       "</g>\n",
       "<!-- 139745822090128*&#45;&gt;139745822090128 -->\n",
       "<g id=\"edge4\" class=\"edge\">\n",
       "<title>139745822090128*&#45;&gt;139745822090128</title>\n",
       "<path fill=\"none\" stroke=\"black\" d=\"M292.16,-73.5C299.72,-73.5 308.49,-73.5 317.92,-73.5\"/>\n",
       "<polygon fill=\"black\" stroke=\"black\" points=\"317.95,-77 327.95,-73.5 317.95,-70 317.95,-77\"/>\n",
       "</g>\n",
       "<!-- 139745822090640 -->\n",
       "<g id=\"node12\" class=\"node\">\n",
       "<title>139745822090640</title>\n",
       "<polygon fill=\"none\" stroke=\"black\" points=\"721.32,-27.5 721.32,-63.5 908.51,-63.5 908.51,-27.5 721.32,-27.5\"/>\n",
       "<text text-anchor=\"middle\" x=\"732.82\" y=\"-41.4\" font-family=\"Times,serif\" font-size=\"14.00\">b</text>\n",
       "<polyline fill=\"none\" stroke=\"black\" points=\"744.32,-27.7 744.32,-63.5 \"/>\n",
       "<text text-anchor=\"middle\" x=\"784.98\" y=\"-41.4\" font-family=\"Times,serif\" font-size=\"14.00\">data 6.8814</text>\n",
       "<polyline fill=\"none\" stroke=\"black\" points=\"825.64,-27.7 825.64,-63.5 \"/>\n",
       "<text text-anchor=\"middle\" x=\"867.08\" y=\"-41.4\" font-family=\"Times,serif\" font-size=\"14.00\">grad 0.5000</text>\n",
       "</g>\n",
       "<!-- 139745822090640&#45;&gt;139745822095248+ -->\n",
       "<g id=\"edge12\" class=\"edge\">\n",
       "<title>139745822090640&#45;&gt;139745822095248+</title>\n",
       "<path fill=\"none\" stroke=\"black\" d=\"M908.71,-58.09C933.79,-61.49 959.44,-64.97 979.24,-67.66\"/>\n",
       "<polygon fill=\"black\" stroke=\"black\" points=\"978.94,-71.15 989.32,-69.03 979.88,-64.22 978.94,-71.15\"/>\n",
       "</g>\n",
       "<!-- 139745822090512 -->\n",
       "<g id=\"node13\" class=\"node\">\n",
       "<title>139745822090512</title>\n",
       "<polygon fill=\"none\" stroke=\"black\" points=\"1.56,-0.5 1.56,-36.5 200.41,-36.5 200.41,-0.5 1.56,-0.5\"/>\n",
       "<text text-anchor=\"middle\" x=\"16.56\" y=\"-14.4\" font-family=\"Times,serif\" font-size=\"14.00\">x1</text>\n",
       "<polyline fill=\"none\" stroke=\"black\" points=\"31.56,-0.7 31.56,-36.5 \"/>\n",
       "<text text-anchor=\"middle\" x=\"72.21\" y=\"-14.4\" font-family=\"Times,serif\" font-size=\"14.00\">data 2.0000</text>\n",
       "<polyline fill=\"none\" stroke=\"black\" points=\"112.87,-0.7 112.87,-36.5 \"/>\n",
       "<text text-anchor=\"middle\" x=\"156.64\" y=\"-14.4\" font-family=\"Times,serif\" font-size=\"14.00\">grad &#45;1.5000</text>\n",
       "</g>\n",
       "<!-- 139745822090512&#45;&gt;139745822090128* -->\n",
       "<g id=\"edge6\" class=\"edge\">\n",
       "<title>139745822090512&#45;&gt;139745822090128*</title>\n",
       "<path fill=\"none\" stroke=\"black\" d=\"M174.23,-36.52C183.63,-39.3 193.08,-42.32 201.97,-45.5 212.5,-49.27 223.73,-54.09 233.69,-58.66\"/>\n",
       "<polygon fill=\"black\" stroke=\"black\" points=\"232.25,-61.85 242.79,-62.92 235.22,-55.51 232.25,-61.85\"/>\n",
       "</g>\n",
       "<!-- 139745822095248 -->\n",
       "<g id=\"node14\" class=\"node\">\n",
       "<title>139745822095248</title>\n",
       "<polygon fill=\"none\" stroke=\"black\" points=\"1078.9,-54.5 1078.9,-90.5 1266.1,-90.5 1266.1,-54.5 1078.9,-54.5\"/>\n",
       "<text text-anchor=\"middle\" x=\"1090.4\" y=\"-68.4\" font-family=\"Times,serif\" font-size=\"14.00\">n</text>\n",
       "<polyline fill=\"none\" stroke=\"black\" points=\"1101.9,-54.7 1101.9,-90.5 \"/>\n",
       "<text text-anchor=\"middle\" x=\"1142.56\" y=\"-68.4\" font-family=\"Times,serif\" font-size=\"14.00\">data 0.8814</text>\n",
       "<polyline fill=\"none\" stroke=\"black\" points=\"1183.22,-54.7 1183.22,-90.5 \"/>\n",
       "<text text-anchor=\"middle\" x=\"1224.66\" y=\"-68.4\" font-family=\"Times,serif\" font-size=\"14.00\">grad 0.5000</text>\n",
       "</g>\n",
       "<!-- 139745822095248&#45;&gt;139745822090256tanh -->\n",
       "<g id=\"edge8\" class=\"edge\">\n",
       "<title>139745822095248&#45;&gt;139745822090256tanh</title>\n",
       "<path fill=\"none\" stroke=\"black\" d=\"M1266.5,-72.5C1275.38,-72.5 1283.98,-72.5 1291.82,-72.5\"/>\n",
       "<polygon fill=\"black\" stroke=\"black\" points=\"1291.97,-76 1301.97,-72.5 1291.97,-69 1291.97,-76\"/>\n",
       "</g>\n",
       "<!-- 139745822095248+&#45;&gt;139745822095248 -->\n",
       "<g id=\"edge5\" class=\"edge\">\n",
       "<title>139745822095248+&#45;&gt;139745822095248</title>\n",
       "<path fill=\"none\" stroke=\"black\" d=\"M1043.13,-72.5C1050.66,-72.5 1059.36,-72.5 1068.6,-72.5\"/>\n",
       "<polygon fill=\"black\" stroke=\"black\" points=\"1068.83,-76 1078.83,-72.5 1068.83,-69 1068.83,-76\"/>\n",
       "</g>\n",
       "</g>\n",
       "</svg>\n"
      ],
      "text/plain": [
       "<graphviz.graphs.Digraph at 0x7f191c11f950>"
      ]
     },
     "execution_count": 35,
     "metadata": {},
     "output_type": "execute_result"
    }
   ],
   "source": [
    "draw_dot(o)"
   ]
  }
 ],
 "metadata": {
  "colab": {
   "provenance": []
  },
  "kernelspec": {
   "display_name": "Python 3 (ipykernel)",
   "language": "python",
   "name": "python3"
  },
  "language_info": {
   "codemirror_mode": {
    "name": "ipython",
    "version": 3
   },
   "file_extension": ".py",
   "mimetype": "text/x-python",
   "name": "python",
   "nbconvert_exporter": "python",
   "pygments_lexer": "ipython3",
   "version": "3.11.5"
  }
 },
 "nbformat": 4,
 "nbformat_minor": 4
}
